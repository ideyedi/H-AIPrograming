{
 "cells": [
  {
   "cell_type": "code",
   "execution_count": 19,
   "outputs": [],
   "source": [
    "import torch\n",
    "from torch.autograd import Variable\n",
    "import numpy as np\n",
    "\n",
    "def rmse(y, y_hat):\n",
    "    \"\"\"\n",
    "    Compute root mean squared error\n",
    "    @param y: 입력 값\n",
    "    @param y_hat: 평균 값\n",
    "    return이 tensor로 되는데 결국 vector로 리턴되는 걸 의미\n",
    "    \"\"\"\n",
    "    return torch.sqrt(torch.mean((y - y_hat).pow(2).sum()))\n",
    "\n",
    "def forward(x, e):\n",
    "    \"\"\"Forward pass for our function\"\"\"\n",
    "    return x.pow(e.repeat(x.size(0)))\n",
    "\n",
    "# Let's define some settings\n",
    "n = 100 # number of examples\n",
    "learning_rate = 5e-6\n",
    "\n",
    "loss_history = []\n",
    "exp_history = []\n",
    "\n",
    "# Model definition\n",
    "x = Variable(torch.rand(n) * 10, requires_grad=False)\n",
    "\n",
    "# Model parameter and it's true value\n",
    "exp = Variable(torch.FloatTensor([2.0]), requires_grad=False)\n",
    "exp_hat = Variable(torch.FloatTensor([4]), requires_grad=True)\n",
    "y = forward(x, exp)"
   ],
   "metadata": {
    "collapsed": false,
    "pycharm": {
     "name": "#%%\n"
    }
   }
  },
  {
   "cell_type": "code",
   "execution_count": 24,
   "outputs": [
    {
     "data": {
      "text/plain": "tensor(4., grad_fn=<SelectBackward0>)"
     },
     "execution_count": 24,
     "metadata": {},
     "output_type": "execute_result"
    }
   ],
   "source": [],
   "metadata": {
    "collapsed": false,
    "pycharm": {
     "name": "#%%\n"
    }
   }
  },
  {
   "cell_type": "code",
   "execution_count": 20,
   "metadata": {
    "collapsed": true,
    "pycharm": {
     "name": "#%%\n"
    }
   },
   "outputs": [
    {
     "name": "stdout",
     "output_type": "stream",
     "text": [
      "Iteration 0\n",
      "[tensor(29947.4746)] [tensor([5.0864e+03, 7.7417e+01, 2.9456e+03, 2.3207e+02, 2.9219e+03, 8.7281e+03,\n",
      "        1.4343e+02, 2.9994e+03, 6.2368e+00, 7.2947e+03, 1.8362e+02, 8.5062e+02,\n",
      "        3.9195e+00, 5.1197e-02, 2.0987e+03, 3.1117e-01, 2.9710e+01, 3.4360e+03,\n",
      "        2.4578e+02, 9.6280e+03, 3.0494e-01, 2.7343e+01, 3.3212e+03, 7.2667e+03,\n",
      "        1.7134e+02, 6.8777e+02, 3.5582e+02, 2.4111e-02, 9.4173e-03, 5.0479e+03,\n",
      "        5.8889e+02, 5.2062e+02, 5.1692e+01, 1.6140e-01, 1.2053e+01, 2.4639e+02,\n",
      "        5.6570e-04, 2.0289e+02, 1.6219e+03, 7.0805e+00, 3.4200e+03, 2.3753e+02,\n",
      "        8.8708e+02, 6.1657e+03, 1.7905e+03, 3.9039e+00, 1.5166e-02, 6.7356e+03,\n",
      "        4.1244e+02, 1.0280e+03, 1.1131e+02, 1.2212e+03, 1.0599e+03, 8.5229e+03,\n",
      "        1.4030e+03, 2.4641e+03, 1.9151e+02, 3.7186e+03, 4.5595e+02, 8.7091e+00,\n",
      "        1.5008e+03, 1.5405e+01, 3.8745e+00, 1.8291e+03, 6.8860e+00, 1.3695e+02,\n",
      "        5.1089e+02, 1.4549e+03, 6.0712e+03, 8.5538e+03, 1.7336e+02, 2.4511e+03,\n",
      "        5.0134e+03, 1.1260e+02, 3.1673e+01, 5.8521e+01, 4.0022e+03, 1.8575e+02,\n",
      "        1.2541e-02, 2.9780e+03, 2.3535e+03, 5.1969e+03, 1.3003e+01, 4.1143e+00,\n",
      "        1.0093e+01, 1.0670e+02, 9.3211e+01, 5.3407e+02, 2.6796e+03, 7.8216e+00,\n",
      "        9.2994e-01, 3.7211e+03, 1.5032e+03, 1.3975e+01, 4.8163e+00, 4.1461e+03,\n",
      "        9.4439e+03, 3.8432e+01, 1.9186e+02, 1.3333e+03])]\n"
     ]
    },
    {
     "ename": "AttributeError",
     "evalue": "'Tensor' object has no attribute 'back11ward'",
     "output_type": "error",
     "traceback": [
      "\u001B[0;31m---------------------------------------------------------------------------\u001B[0m",
      "\u001B[0;31mAttributeError\u001B[0m                            Traceback (most recent call last)",
      "Input \u001B[0;32mIn [20]\u001B[0m, in \u001B[0;36m<module>\u001B[0;34m\u001B[0m\n\u001B[1;32m     14\u001B[0m \u001B[38;5;28mprint\u001B[39m(loss_history, exp_history)\n\u001B[1;32m     16\u001B[0m \u001B[38;5;66;03m# Compute gradients\u001B[39;00m\n\u001B[0;32m---> 17\u001B[0m \u001B[43mloss\u001B[49m\u001B[38;5;241;43m.\u001B[39;49m\u001B[43mback11ward\u001B[49m()\n\u001B[1;32m     19\u001B[0m \u001B[38;5;28mprint\u001B[39m(\u001B[38;5;124m\"\u001B[39m\u001B[38;5;124mloss = \u001B[39m\u001B[38;5;132;01m%s\u001B[39;00m\u001B[38;5;124m\"\u001B[39m \u001B[38;5;241m%\u001B[39m loss\u001B[38;5;241m.\u001B[39mdata)\n\u001B[1;32m     20\u001B[0m \u001B[38;5;28mprint\u001B[39m(\u001B[38;5;124m\"\u001B[39m\u001B[38;5;124mexp = \u001B[39m\u001B[38;5;132;01m%s\u001B[39;00m\u001B[38;5;124m\"\u001B[39m \u001B[38;5;241m%\u001B[39m exp_hat\u001B[38;5;241m.\u001B[39mdata)\n",
      "\u001B[0;31mAttributeError\u001B[0m: 'Tensor' object has no attribute 'back11ward'"
     ]
    }
   ],
   "source": [
    "# Training loop\n",
    "for i in range(0, 200):\n",
    "    print(\"Iteration %d\" % i)\n",
    "\n",
    "    # Compute current estimate\n",
    "    y_hat = forward(x, exp_hat)\n",
    "\n",
    "    # Calculate loss function\n",
    "    loss = rmse(y, y_hat)\n",
    "\n",
    "    # Do some recordings for plots\n",
    "    loss_history.append(loss.data)\n",
    "    exp_history.append(y_hat.data)\n",
    "    print(loss_history, exp_history)\n",
    "\n",
    "    # Compute gradients\n",
    "    loss.back11ward()\n",
    "\n",
    "    print(\"loss = %s\" % loss.data)\n",
    "    print(\"exp = %s\" % exp_hat.data)\n",
    "\n",
    "    # Update model parameters\n",
    "    exp_hat.data -= learning_rate * exp_hat.grad.data\n",
    "    exp_hat.grad.data.zero_()"
   ]
  },
  {
   "cell_type": "code",
   "execution_count": null,
   "outputs": [],
   "source": [],
   "metadata": {
    "collapsed": false,
    "pycharm": {
     "name": "#%%\n"
    }
   }
  }
 ],
 "metadata": {
  "kernelspec": {
   "display_name": "Python 3",
   "language": "python",
   "name": "python3"
  },
  "language_info": {
   "codemirror_mode": {
    "name": "ipython",
    "version": 2
   },
   "file_extension": ".py",
   "mimetype": "text/x-python",
   "name": "python",
   "nbconvert_exporter": "python",
   "pygments_lexer": "ipython2",
   "version": "2.7.6"
  }
 },
 "nbformat": 4,
 "nbformat_minor": 0
}