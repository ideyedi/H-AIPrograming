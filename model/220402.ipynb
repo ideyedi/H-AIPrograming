{
 "cells": [
  {
   "cell_type": "code",
   "execution_count": 1,
   "id": "unable-ceremony",
   "metadata": {},
   "outputs": [
    {
     "name": "stderr",
     "output_type": "stream",
     "text": [
      "/Users/we/.local/share/virtualenvs/hy-research-wW9tVLY_/lib/python3.8/site-packages/xgboost/compat.py:36: FutureWarning: pandas.Int64Index is deprecated and will be removed from pandas in a future version. Use pandas.Index with the appropriate dtype instead.\n",
      "  from pandas import MultiIndex, Int64Index\n"
     ]
    }
   ],
   "source": [
    "import pandas as pd\n",
    "import numpy as np\n",
    "\n",
    "from xgboost import XGBRegressor\n",
    "\n",
    "from sklearn.model_selection import KFold\n",
    "from sklearn.metrics import mean_squared_error\n",
    "from sklearn.model_selection import train_test_split"
   ]
  },
  {
   "cell_type": "code",
   "execution_count": 2,
   "outputs": [],
   "source": [
    "#import Common modult\n",
    "from util import preprocess as pre"
   ],
   "metadata": {
    "collapsed": false,
    "pycharm": {
     "name": "#%%\n"
    }
   }
  },
  {
   "cell_type": "code",
   "execution_count": 3,
   "outputs": [
    {
     "name": "stdout",
     "output_type": "stream",
     "text": [
      "/Users/we/Workspaces/ideyedi/hy-research/data/220117.2144.csv\n",
      "/Users/we/Workspaces/ideyedi/hy-research/data/220223.1237.csv\n",
      "/Users/we/Workspaces/ideyedi/hy-research/data/220319.2214.csv\n",
      "/Users/we/Workspaces/ideyedi/hy-research/data/220331.0836.csv\n",
      "/Users/we/Workspaces/ideyedi/hy-research/data/220117.2204.csv\n"
     ]
    }
   ],
   "source": [
    "pre_processed = pre.getDataframe()\n",
    "df = pre_processed.getpreprocessed()"
   ],
   "metadata": {
    "collapsed": false,
    "pycharm": {
     "name": "#%%\n"
    }
   }
  },
  {
   "cell_type": "markdown",
   "source": [
    "### Modeling stage\n",
    "전에 사용했던 XGboosting model을 사용"
   ],
   "metadata": {
    "collapsed": false
   }
  },
  {
   "cell_type": "markdown",
   "source": [
    "df를 모델링의 중점이 되는 데이터프레임으로 할당"
   ],
   "metadata": {
    "collapsed": false
   }
  },
  {
   "cell_type": "code",
   "execution_count": 4,
   "outputs": [
    {
     "data": {
      "text/plain": "((789, 139), (789, 139))"
     },
     "execution_count": 4,
     "metadata": {},
     "output_type": "execute_result"
    }
   ],
   "source": [
    "# y: index for data sizes\n",
    "y = [idx for idx in range(0, df.shape[0])]\n",
    "# Test-Set 분리\n",
    "x_train, x_test, y_train, y_test = train_test_split(df, y, test_size=0.5, random_state=10)\n",
    "x_train.shape, x_test.shape"
   ],
   "metadata": {
    "collapsed": false,
    "pycharm": {
     "name": "#%%\n"
    }
   }
  },
  {
   "cell_type": "code",
   "execution_count": 5,
   "outputs": [],
   "source": [
    "x = x_train.drop('label', axis=1)\n",
    "x_vali = x_test.drop('label', axis=1)\n",
    "\n",
    "y = x_train['label']\n",
    "y_vali = x_test['label']"
   ],
   "metadata": {
    "collapsed": false,
    "pycharm": {
     "name": "#%%\n"
    }
   }
  },
  {
   "cell_type": "code",
   "execution_count": 6,
   "outputs": [],
   "source": [
    "# K-fold로 10개의 generator 생성\n",
    "kf = KFold(n_splits =  10, shuffle = True, random_state = 96)\n",
    "# Make Model\n",
    "xgb = XGBRegressor(random_state = 256)"
   ],
   "metadata": {
    "collapsed": false,
    "pycharm": {
     "name": "#%%\n"
    }
   }
  },
  {
   "cell_type": "code",
   "execution_count": 10,
   "outputs": [
    {
     "name": "stderr",
     "output_type": "stream",
     "text": [
      "/Users/we/.local/share/virtualenvs/hy-research-wW9tVLY_/lib/python3.8/site-packages/xgboost/data.py:262: FutureWarning: pandas.Int64Index is deprecated and will be removed from pandas in a future version. Use pandas.Index with the appropriate dtype instead.\n",
      "  elif isinstance(data.columns, (pd.Int64Index, pd.RangeIndex)):\n",
      "/Users/we/.local/share/virtualenvs/hy-research-wW9tVLY_/lib/python3.8/site-packages/xgboost/data.py:262: FutureWarning: pandas.Int64Index is deprecated and will be removed from pandas in a future version. Use pandas.Index with the appropriate dtype instead.\n",
      "  elif isinstance(data.columns, (pd.Int64Index, pd.RangeIndex)):\n",
      "/Users/we/.local/share/virtualenvs/hy-research-wW9tVLY_/lib/python3.8/site-packages/xgboost/data.py:262: FutureWarning: pandas.Int64Index is deprecated and will be removed from pandas in a future version. Use pandas.Index with the appropriate dtype instead.\n",
      "  elif isinstance(data.columns, (pd.Int64Index, pd.RangeIndex)):\n",
      "/Users/we/.local/share/virtualenvs/hy-research-wW9tVLY_/lib/python3.8/site-packages/xgboost/data.py:262: FutureWarning: pandas.Int64Index is deprecated and will be removed from pandas in a future version. Use pandas.Index with the appropriate dtype instead.\n",
      "  elif isinstance(data.columns, (pd.Int64Index, pd.RangeIndex)):\n",
      "/Users/we/.local/share/virtualenvs/hy-research-wW9tVLY_/lib/python3.8/site-packages/xgboost/data.py:262: FutureWarning: pandas.Int64Index is deprecated and will be removed from pandas in a future version. Use pandas.Index with the appropriate dtype instead.\n",
      "  elif isinstance(data.columns, (pd.Int64Index, pd.RangeIndex)):\n",
      "/Users/we/.local/share/virtualenvs/hy-research-wW9tVLY_/lib/python3.8/site-packages/xgboost/data.py:262: FutureWarning: pandas.Int64Index is deprecated and will be removed from pandas in a future version. Use pandas.Index with the appropriate dtype instead.\n",
      "  elif isinstance(data.columns, (pd.Int64Index, pd.RangeIndex)):\n",
      "/Users/we/.local/share/virtualenvs/hy-research-wW9tVLY_/lib/python3.8/site-packages/xgboost/data.py:262: FutureWarning: pandas.Int64Index is deprecated and will be removed from pandas in a future version. Use pandas.Index with the appropriate dtype instead.\n",
      "  elif isinstance(data.columns, (pd.Int64Index, pd.RangeIndex)):\n",
      "/Users/we/.local/share/virtualenvs/hy-research-wW9tVLY_/lib/python3.8/site-packages/xgboost/data.py:262: FutureWarning: pandas.Int64Index is deprecated and will be removed from pandas in a future version. Use pandas.Index with the appropriate dtype instead.\n",
      "  elif isinstance(data.columns, (pd.Int64Index, pd.RangeIndex)):\n",
      "/Users/we/.local/share/virtualenvs/hy-research-wW9tVLY_/lib/python3.8/site-packages/xgboost/data.py:262: FutureWarning: pandas.Int64Index is deprecated and will be removed from pandas in a future version. Use pandas.Index with the appropriate dtype instead.\n",
      "  elif isinstance(data.columns, (pd.Int64Index, pd.RangeIndex)):\n",
      "/Users/we/.local/share/virtualenvs/hy-research-wW9tVLY_/lib/python3.8/site-packages/xgboost/data.py:262: FutureWarning: pandas.Int64Index is deprecated and will be removed from pandas in a future version. Use pandas.Index with the appropriate dtype instead.\n",
      "  elif isinstance(data.columns, (pd.Int64Index, pd.RangeIndex)):\n"
     ]
    }
   ],
   "source": [
    "rmse_list = []\n",
    "xgb_pred = np.zeros((x_train.shape[0]))\n",
    "\n",
    "# K(10)-fold validation Loop\n",
    "for tr_idx, val_idx in kf.split(x, y) :\n",
    "    tr_x, tr_y = x.iloc[tr_idx], y.iloc[tr_idx]\n",
    "    val_x, val_y = x.iloc[val_idx], y.iloc[val_idx]\n",
    "\n",
    "    xgb.fit(tr_x, tr_y)\n",
    "\n",
    "    pred = np.expm1([0 if x < 0 else x for x in xgb.predict(val_x)])\n",
    "    sub_pred = np.expm1([0 if x < 0 else x for x in xgb.predict(x_vali)])\n",
    "    rmse = np.sqrt(mean_squared_error(val_y, pred))\n",
    "\n",
    "\n",
    "    rmse_list.append(rmse)\n",
    "    xgb_pred += (sub_pred / 10)"
   ],
   "metadata": {
    "collapsed": false,
    "pycharm": {
     "name": "#%%\n"
    }
   }
  },
  {
   "cell_type": "code",
   "execution_count": 12,
   "outputs": [
    {
     "name": "stdout",
     "output_type": "stream",
     "text": [
      "MSE: 74.46836590663469%\n"
     ]
    }
   ],
   "source": [
    "print(f'MSE: {np.mean(rmse_list) * 100}%')"
   ],
   "metadata": {
    "collapsed": false,
    "pycharm": {
     "name": "#%%\n"
    }
   }
  },
  {
   "cell_type": "code",
   "execution_count": null,
   "outputs": [],
   "source": [],
   "metadata": {
    "collapsed": false,
    "pycharm": {
     "name": "#%%\n"
    }
   }
  }
 ],
 "metadata": {
  "kernelspec": {
   "display_name": "Python 3 (ipykernel)",
   "language": "python",
   "name": "python3"
  },
  "language_info": {
   "codemirror_mode": {
    "name": "ipython",
    "version": 3
   },
   "file_extension": ".py",
   "mimetype": "text/x-python",
   "name": "python",
   "nbconvert_exporter": "python",
   "pygments_lexer": "ipython3",
   "version": "3.9.9"
  }
 },
 "nbformat": 4,
 "nbformat_minor": 5
}