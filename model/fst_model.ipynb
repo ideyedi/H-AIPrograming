{
 "cells": [
  {
   "cell_type": "code",
   "execution_count": 1,
   "id": "unable-ceremony",
   "metadata": {},
   "outputs": [
    {
     "name": "stderr",
     "output_type": "stream",
     "text": [
      "/home/ideyedi/.local/share/virtualenvs/hy-research-DY7LyiN0/lib/python3.8/site-packages/xgboost/compat.py:36: FutureWarning: pandas.Int64Index is deprecated and will be removed from pandas in a future version. Use pandas.Index with the appropriate dtype instead.\n",
      "  from pandas import MultiIndex, Int64Index\n"
     ]
    }
   ],
   "source": [
    "import pandas as pd\n",
    "import numpy as np\n",
    "import tensorflow as tf\n",
    "\n",
    "from xgboost import XGBRegressor\n",
    "from xgboost import plot_importance\n",
    "\n",
    "from sklearn.model_selection import KFold\n",
    "from sklearn.metrics import mean_squared_error\n",
    "from sklearn.model_selection import train_test_split\n",
    "from sklearn.metrics import accuracy_score\n",
    "\n",
    "from matplotlib import pyplot"
   ]
  },
  {
   "cell_type": "code",
   "execution_count": 2,
   "id": "liquid-routine",
   "metadata": {},
   "outputs": [
    {
     "ename": "FileNotFoundError",
     "evalue": "[Errno 2] No such file or directory: '../data/220117.2144.csv'",
     "output_type": "error",
     "traceback": [
      "\u001b[0;31m---------------------------------------------------------------------------\u001b[0m",
      "\u001b[0;31mFileNotFoundError\u001b[0m                         Traceback (most recent call last)",
      "Input \u001b[0;32mIn [2]\u001b[0m, in \u001b[0;36m<module>\u001b[0;34m\u001b[0m\n\u001b[1;32m      1\u001b[0m \u001b[38;5;66;03m# Import datas\u001b[39;00m\n\u001b[1;32m      2\u001b[0m \u001b[38;5;66;03m# 2144 세탁기\u001b[39;00m\n\u001b[1;32m      3\u001b[0m \u001b[38;5;66;03m# 2204 노트북\u001b[39;00m\n\u001b[0;32m----> 4\u001b[0m df2144 \u001b[38;5;241m=\u001b[39m \u001b[43mpd\u001b[49m\u001b[38;5;241;43m.\u001b[39;49m\u001b[43mread_csv\u001b[49m\u001b[43m(\u001b[49m\u001b[38;5;124;43m'\u001b[39;49m\u001b[38;5;124;43m../data/220117.2144.csv\u001b[39;49m\u001b[38;5;124;43m'\u001b[39;49m\u001b[43m,\u001b[49m\u001b[43m \u001b[49m\u001b[43mencoding\u001b[49m\u001b[43m \u001b[49m\u001b[38;5;241;43m=\u001b[39;49m\u001b[43m \u001b[49m\u001b[38;5;124;43m'\u001b[39;49m\u001b[38;5;124;43mUTF-8\u001b[39;49m\u001b[38;5;124;43m'\u001b[39;49m\u001b[43m)\u001b[49m\n\u001b[1;32m      5\u001b[0m df2204 \u001b[38;5;241m=\u001b[39m pd\u001b[38;5;241m.\u001b[39mread_csv(\u001b[38;5;124m'\u001b[39m\u001b[38;5;124m../data/220117.2204.csv\u001b[39m\u001b[38;5;124m'\u001b[39m, encoding \u001b[38;5;241m=\u001b[39m \u001b[38;5;124m'\u001b[39m\u001b[38;5;124mUTF-8\u001b[39m\u001b[38;5;124m'\u001b[39m)\n\u001b[1;32m      7\u001b[0m df2144\u001b[38;5;241m.\u001b[39mdescribe(), df2144\u001b[38;5;241m.\u001b[39mtail()\n",
      "File \u001b[0;32m~/.local/share/virtualenvs/hy-research-DY7LyiN0/lib/python3.8/site-packages/pandas/util/_decorators.py:311\u001b[0m, in \u001b[0;36mdeprecate_nonkeyword_arguments.<locals>.decorate.<locals>.wrapper\u001b[0;34m(*args, **kwargs)\u001b[0m\n\u001b[1;32m    305\u001b[0m \u001b[38;5;28;01mif\u001b[39;00m \u001b[38;5;28mlen\u001b[39m(args) \u001b[38;5;241m>\u001b[39m num_allow_args:\n\u001b[1;32m    306\u001b[0m     warnings\u001b[38;5;241m.\u001b[39mwarn(\n\u001b[1;32m    307\u001b[0m         msg\u001b[38;5;241m.\u001b[39mformat(arguments\u001b[38;5;241m=\u001b[39marguments),\n\u001b[1;32m    308\u001b[0m         \u001b[38;5;167;01mFutureWarning\u001b[39;00m,\n\u001b[1;32m    309\u001b[0m         stacklevel\u001b[38;5;241m=\u001b[39mstacklevel,\n\u001b[1;32m    310\u001b[0m     )\n\u001b[0;32m--> 311\u001b[0m \u001b[38;5;28;01mreturn\u001b[39;00m \u001b[43mfunc\u001b[49m\u001b[43m(\u001b[49m\u001b[38;5;241;43m*\u001b[39;49m\u001b[43margs\u001b[49m\u001b[43m,\u001b[49m\u001b[43m \u001b[49m\u001b[38;5;241;43m*\u001b[39;49m\u001b[38;5;241;43m*\u001b[39;49m\u001b[43mkwargs\u001b[49m\u001b[43m)\u001b[49m\n",
      "File \u001b[0;32m~/.local/share/virtualenvs/hy-research-DY7LyiN0/lib/python3.8/site-packages/pandas/io/parsers/readers.py:680\u001b[0m, in \u001b[0;36mread_csv\u001b[0;34m(filepath_or_buffer, sep, delimiter, header, names, index_col, usecols, squeeze, prefix, mangle_dupe_cols, dtype, engine, converters, true_values, false_values, skipinitialspace, skiprows, skipfooter, nrows, na_values, keep_default_na, na_filter, verbose, skip_blank_lines, parse_dates, infer_datetime_format, keep_date_col, date_parser, dayfirst, cache_dates, iterator, chunksize, compression, thousands, decimal, lineterminator, quotechar, quoting, doublequote, escapechar, comment, encoding, encoding_errors, dialect, error_bad_lines, warn_bad_lines, on_bad_lines, delim_whitespace, low_memory, memory_map, float_precision, storage_options)\u001b[0m\n\u001b[1;32m    665\u001b[0m kwds_defaults \u001b[38;5;241m=\u001b[39m _refine_defaults_read(\n\u001b[1;32m    666\u001b[0m     dialect,\n\u001b[1;32m    667\u001b[0m     delimiter,\n\u001b[0;32m   (...)\u001b[0m\n\u001b[1;32m    676\u001b[0m     defaults\u001b[38;5;241m=\u001b[39m{\u001b[38;5;124m\"\u001b[39m\u001b[38;5;124mdelimiter\u001b[39m\u001b[38;5;124m\"\u001b[39m: \u001b[38;5;124m\"\u001b[39m\u001b[38;5;124m,\u001b[39m\u001b[38;5;124m\"\u001b[39m},\n\u001b[1;32m    677\u001b[0m )\n\u001b[1;32m    678\u001b[0m kwds\u001b[38;5;241m.\u001b[39mupdate(kwds_defaults)\n\u001b[0;32m--> 680\u001b[0m \u001b[38;5;28;01mreturn\u001b[39;00m \u001b[43m_read\u001b[49m\u001b[43m(\u001b[49m\u001b[43mfilepath_or_buffer\u001b[49m\u001b[43m,\u001b[49m\u001b[43m \u001b[49m\u001b[43mkwds\u001b[49m\u001b[43m)\u001b[49m\n",
      "File \u001b[0;32m~/.local/share/virtualenvs/hy-research-DY7LyiN0/lib/python3.8/site-packages/pandas/io/parsers/readers.py:575\u001b[0m, in \u001b[0;36m_read\u001b[0;34m(filepath_or_buffer, kwds)\u001b[0m\n\u001b[1;32m    572\u001b[0m _validate_names(kwds\u001b[38;5;241m.\u001b[39mget(\u001b[38;5;124m\"\u001b[39m\u001b[38;5;124mnames\u001b[39m\u001b[38;5;124m\"\u001b[39m, \u001b[38;5;28;01mNone\u001b[39;00m))\n\u001b[1;32m    574\u001b[0m \u001b[38;5;66;03m# Create the parser.\u001b[39;00m\n\u001b[0;32m--> 575\u001b[0m parser \u001b[38;5;241m=\u001b[39m \u001b[43mTextFileReader\u001b[49m\u001b[43m(\u001b[49m\u001b[43mfilepath_or_buffer\u001b[49m\u001b[43m,\u001b[49m\u001b[43m \u001b[49m\u001b[38;5;241;43m*\u001b[39;49m\u001b[38;5;241;43m*\u001b[39;49m\u001b[43mkwds\u001b[49m\u001b[43m)\u001b[49m\n\u001b[1;32m    577\u001b[0m \u001b[38;5;28;01mif\u001b[39;00m chunksize \u001b[38;5;129;01mor\u001b[39;00m iterator:\n\u001b[1;32m    578\u001b[0m     \u001b[38;5;28;01mreturn\u001b[39;00m parser\n",
      "File \u001b[0;32m~/.local/share/virtualenvs/hy-research-DY7LyiN0/lib/python3.8/site-packages/pandas/io/parsers/readers.py:933\u001b[0m, in \u001b[0;36mTextFileReader.__init__\u001b[0;34m(self, f, engine, **kwds)\u001b[0m\n\u001b[1;32m    930\u001b[0m     \u001b[38;5;28mself\u001b[39m\u001b[38;5;241m.\u001b[39moptions[\u001b[38;5;124m\"\u001b[39m\u001b[38;5;124mhas_index_names\u001b[39m\u001b[38;5;124m\"\u001b[39m] \u001b[38;5;241m=\u001b[39m kwds[\u001b[38;5;124m\"\u001b[39m\u001b[38;5;124mhas_index_names\u001b[39m\u001b[38;5;124m\"\u001b[39m]\n\u001b[1;32m    932\u001b[0m \u001b[38;5;28mself\u001b[39m\u001b[38;5;241m.\u001b[39mhandles: IOHandles \u001b[38;5;241m|\u001b[39m \u001b[38;5;28;01mNone\u001b[39;00m \u001b[38;5;241m=\u001b[39m \u001b[38;5;28;01mNone\u001b[39;00m\n\u001b[0;32m--> 933\u001b[0m \u001b[38;5;28mself\u001b[39m\u001b[38;5;241m.\u001b[39m_engine \u001b[38;5;241m=\u001b[39m \u001b[38;5;28;43mself\u001b[39;49m\u001b[38;5;241;43m.\u001b[39;49m\u001b[43m_make_engine\u001b[49m\u001b[43m(\u001b[49m\u001b[43mf\u001b[49m\u001b[43m,\u001b[49m\u001b[43m \u001b[49m\u001b[38;5;28;43mself\u001b[39;49m\u001b[38;5;241;43m.\u001b[39;49m\u001b[43mengine\u001b[49m\u001b[43m)\u001b[49m\n",
      "File \u001b[0;32m~/.local/share/virtualenvs/hy-research-DY7LyiN0/lib/python3.8/site-packages/pandas/io/parsers/readers.py:1217\u001b[0m, in \u001b[0;36mTextFileReader._make_engine\u001b[0;34m(self, f, engine)\u001b[0m\n\u001b[1;32m   1213\u001b[0m     mode \u001b[38;5;241m=\u001b[39m \u001b[38;5;124m\"\u001b[39m\u001b[38;5;124mrb\u001b[39m\u001b[38;5;124m\"\u001b[39m\n\u001b[1;32m   1214\u001b[0m \u001b[38;5;66;03m# error: No overload variant of \"get_handle\" matches argument types\u001b[39;00m\n\u001b[1;32m   1215\u001b[0m \u001b[38;5;66;03m# \"Union[str, PathLike[str], ReadCsvBuffer[bytes], ReadCsvBuffer[str]]\"\u001b[39;00m\n\u001b[1;32m   1216\u001b[0m \u001b[38;5;66;03m# , \"str\", \"bool\", \"Any\", \"Any\", \"Any\", \"Any\", \"Any\"\u001b[39;00m\n\u001b[0;32m-> 1217\u001b[0m \u001b[38;5;28mself\u001b[39m\u001b[38;5;241m.\u001b[39mhandles \u001b[38;5;241m=\u001b[39m \u001b[43mget_handle\u001b[49m\u001b[43m(\u001b[49m\u001b[43m  \u001b[49m\u001b[38;5;66;43;03m# type: ignore[call-overload]\u001b[39;49;00m\n\u001b[1;32m   1218\u001b[0m \u001b[43m    \u001b[49m\u001b[43mf\u001b[49m\u001b[43m,\u001b[49m\n\u001b[1;32m   1219\u001b[0m \u001b[43m    \u001b[49m\u001b[43mmode\u001b[49m\u001b[43m,\u001b[49m\n\u001b[1;32m   1220\u001b[0m \u001b[43m    \u001b[49m\u001b[43mencoding\u001b[49m\u001b[38;5;241;43m=\u001b[39;49m\u001b[38;5;28;43mself\u001b[39;49m\u001b[38;5;241;43m.\u001b[39;49m\u001b[43moptions\u001b[49m\u001b[38;5;241;43m.\u001b[39;49m\u001b[43mget\u001b[49m\u001b[43m(\u001b[49m\u001b[38;5;124;43m\"\u001b[39;49m\u001b[38;5;124;43mencoding\u001b[39;49m\u001b[38;5;124;43m\"\u001b[39;49m\u001b[43m,\u001b[49m\u001b[43m \u001b[49m\u001b[38;5;28;43;01mNone\u001b[39;49;00m\u001b[43m)\u001b[49m\u001b[43m,\u001b[49m\n\u001b[1;32m   1221\u001b[0m \u001b[43m    \u001b[49m\u001b[43mcompression\u001b[49m\u001b[38;5;241;43m=\u001b[39;49m\u001b[38;5;28;43mself\u001b[39;49m\u001b[38;5;241;43m.\u001b[39;49m\u001b[43moptions\u001b[49m\u001b[38;5;241;43m.\u001b[39;49m\u001b[43mget\u001b[49m\u001b[43m(\u001b[49m\u001b[38;5;124;43m\"\u001b[39;49m\u001b[38;5;124;43mcompression\u001b[39;49m\u001b[38;5;124;43m\"\u001b[39;49m\u001b[43m,\u001b[49m\u001b[43m \u001b[49m\u001b[38;5;28;43;01mNone\u001b[39;49;00m\u001b[43m)\u001b[49m\u001b[43m,\u001b[49m\n\u001b[1;32m   1222\u001b[0m \u001b[43m    \u001b[49m\u001b[43mmemory_map\u001b[49m\u001b[38;5;241;43m=\u001b[39;49m\u001b[38;5;28;43mself\u001b[39;49m\u001b[38;5;241;43m.\u001b[39;49m\u001b[43moptions\u001b[49m\u001b[38;5;241;43m.\u001b[39;49m\u001b[43mget\u001b[49m\u001b[43m(\u001b[49m\u001b[38;5;124;43m\"\u001b[39;49m\u001b[38;5;124;43mmemory_map\u001b[39;49m\u001b[38;5;124;43m\"\u001b[39;49m\u001b[43m,\u001b[49m\u001b[43m \u001b[49m\u001b[38;5;28;43;01mFalse\u001b[39;49;00m\u001b[43m)\u001b[49m\u001b[43m,\u001b[49m\n\u001b[1;32m   1223\u001b[0m \u001b[43m    \u001b[49m\u001b[43mis_text\u001b[49m\u001b[38;5;241;43m=\u001b[39;49m\u001b[43mis_text\u001b[49m\u001b[43m,\u001b[49m\n\u001b[1;32m   1224\u001b[0m \u001b[43m    \u001b[49m\u001b[43merrors\u001b[49m\u001b[38;5;241;43m=\u001b[39;49m\u001b[38;5;28;43mself\u001b[39;49m\u001b[38;5;241;43m.\u001b[39;49m\u001b[43moptions\u001b[49m\u001b[38;5;241;43m.\u001b[39;49m\u001b[43mget\u001b[49m\u001b[43m(\u001b[49m\u001b[38;5;124;43m\"\u001b[39;49m\u001b[38;5;124;43mencoding_errors\u001b[39;49m\u001b[38;5;124;43m\"\u001b[39;49m\u001b[43m,\u001b[49m\u001b[43m \u001b[49m\u001b[38;5;124;43m\"\u001b[39;49m\u001b[38;5;124;43mstrict\u001b[39;49m\u001b[38;5;124;43m\"\u001b[39;49m\u001b[43m)\u001b[49m\u001b[43m,\u001b[49m\n\u001b[1;32m   1225\u001b[0m \u001b[43m    \u001b[49m\u001b[43mstorage_options\u001b[49m\u001b[38;5;241;43m=\u001b[39;49m\u001b[38;5;28;43mself\u001b[39;49m\u001b[38;5;241;43m.\u001b[39;49m\u001b[43moptions\u001b[49m\u001b[38;5;241;43m.\u001b[39;49m\u001b[43mget\u001b[49m\u001b[43m(\u001b[49m\u001b[38;5;124;43m\"\u001b[39;49m\u001b[38;5;124;43mstorage_options\u001b[39;49m\u001b[38;5;124;43m\"\u001b[39;49m\u001b[43m,\u001b[49m\u001b[43m \u001b[49m\u001b[38;5;28;43;01mNone\u001b[39;49;00m\u001b[43m)\u001b[49m\u001b[43m,\u001b[49m\n\u001b[1;32m   1226\u001b[0m \u001b[43m\u001b[49m\u001b[43m)\u001b[49m\n\u001b[1;32m   1227\u001b[0m \u001b[38;5;28;01massert\u001b[39;00m \u001b[38;5;28mself\u001b[39m\u001b[38;5;241m.\u001b[39mhandles \u001b[38;5;129;01mis\u001b[39;00m \u001b[38;5;129;01mnot\u001b[39;00m \u001b[38;5;28;01mNone\u001b[39;00m\n\u001b[1;32m   1228\u001b[0m f \u001b[38;5;241m=\u001b[39m \u001b[38;5;28mself\u001b[39m\u001b[38;5;241m.\u001b[39mhandles\u001b[38;5;241m.\u001b[39mhandle\n",
      "File \u001b[0;32m~/.local/share/virtualenvs/hy-research-DY7LyiN0/lib/python3.8/site-packages/pandas/io/common.py:789\u001b[0m, in \u001b[0;36mget_handle\u001b[0;34m(path_or_buf, mode, encoding, compression, memory_map, is_text, errors, storage_options)\u001b[0m\n\u001b[1;32m    784\u001b[0m \u001b[38;5;28;01melif\u001b[39;00m \u001b[38;5;28misinstance\u001b[39m(handle, \u001b[38;5;28mstr\u001b[39m):\n\u001b[1;32m    785\u001b[0m     \u001b[38;5;66;03m# Check whether the filename is to be opened in binary mode.\u001b[39;00m\n\u001b[1;32m    786\u001b[0m     \u001b[38;5;66;03m# Binary mode does not support 'encoding' and 'newline'.\u001b[39;00m\n\u001b[1;32m    787\u001b[0m     \u001b[38;5;28;01mif\u001b[39;00m ioargs\u001b[38;5;241m.\u001b[39mencoding \u001b[38;5;129;01mand\u001b[39;00m \u001b[38;5;124m\"\u001b[39m\u001b[38;5;124mb\u001b[39m\u001b[38;5;124m\"\u001b[39m \u001b[38;5;129;01mnot\u001b[39;00m \u001b[38;5;129;01min\u001b[39;00m ioargs\u001b[38;5;241m.\u001b[39mmode:\n\u001b[1;32m    788\u001b[0m         \u001b[38;5;66;03m# Encoding\u001b[39;00m\n\u001b[0;32m--> 789\u001b[0m         handle \u001b[38;5;241m=\u001b[39m \u001b[38;5;28;43mopen\u001b[39;49m\u001b[43m(\u001b[49m\n\u001b[1;32m    790\u001b[0m \u001b[43m            \u001b[49m\u001b[43mhandle\u001b[49m\u001b[43m,\u001b[49m\n\u001b[1;32m    791\u001b[0m \u001b[43m            \u001b[49m\u001b[43mioargs\u001b[49m\u001b[38;5;241;43m.\u001b[39;49m\u001b[43mmode\u001b[49m\u001b[43m,\u001b[49m\n\u001b[1;32m    792\u001b[0m \u001b[43m            \u001b[49m\u001b[43mencoding\u001b[49m\u001b[38;5;241;43m=\u001b[39;49m\u001b[43mioargs\u001b[49m\u001b[38;5;241;43m.\u001b[39;49m\u001b[43mencoding\u001b[49m\u001b[43m,\u001b[49m\n\u001b[1;32m    793\u001b[0m \u001b[43m            \u001b[49m\u001b[43merrors\u001b[49m\u001b[38;5;241;43m=\u001b[39;49m\u001b[43merrors\u001b[49m\u001b[43m,\u001b[49m\n\u001b[1;32m    794\u001b[0m \u001b[43m            \u001b[49m\u001b[43mnewline\u001b[49m\u001b[38;5;241;43m=\u001b[39;49m\u001b[38;5;124;43m\"\u001b[39;49m\u001b[38;5;124;43m\"\u001b[39;49m\u001b[43m,\u001b[49m\n\u001b[1;32m    795\u001b[0m \u001b[43m        \u001b[49m\u001b[43m)\u001b[49m\n\u001b[1;32m    796\u001b[0m     \u001b[38;5;28;01melse\u001b[39;00m:\n\u001b[1;32m    797\u001b[0m         \u001b[38;5;66;03m# Binary mode\u001b[39;00m\n\u001b[1;32m    798\u001b[0m         handle \u001b[38;5;241m=\u001b[39m \u001b[38;5;28mopen\u001b[39m(handle, ioargs\u001b[38;5;241m.\u001b[39mmode)\n",
      "\u001b[0;31mFileNotFoundError\u001b[0m: [Errno 2] No such file or directory: '../data/220117.2144.csv'"
     ]
    }
   ],
   "source": [
    "# Import datas\n",
    "# 2144 세탁기\n",
    "# 2204 노트북\n",
    "df2144 = pd.read_csv('../data/220117.2144.csv', encoding = 'UTF-8')\n",
    "df2204 = pd.read_csv('../data/220117.2204.csv', encoding = 'UTF-8')\n",
    "\n",
    "df2144.describe(), df2144.tail()"
   ]
  },
  {
   "cell_type": "code",
   "execution_count": 3,
   "id": "hybrid-kennedy",
   "metadata": {},
   "outputs": [
    {
     "data": {
      "text/plain": [
       "(array([ 0.,  1., nan]),\n",
       " 1.0    539\n",
       " 0.0     91\n",
       " Name: label, dtype: int64,\n",
       " 630)"
      ]
     },
     "execution_count": 3,
     "metadata": {},
     "output_type": "execute_result"
    }
   ],
   "source": [
    "# NaN의 갯수는 세지 않는구나.\n",
    "df2144['label'].unique(), df2144['label'].value_counts(), df2144['label'].count()"
   ]
  },
  {
   "cell_type": "code",
   "execution_count": 4,
   "id": "early-publicity",
   "metadata": {},
   "outputs": [],
   "source": [
    "# axis: NaN 데이터에 대해서 행 or 열을 Drop할지 정하는 변수\n",
    "# how: any or all 옵션 존재, any의 경우 하나라도 없을 경우 해당 행 또는 열을 드랍\n",
    "concat_list = []\n",
    "fst_df = df2144.dropna(axis='index', how='any')\n",
    "sec_df = df2204.dropna(axis='index', how='any')\n",
    "fst_df['label'].value_counts()\n",
    "\n",
    "concat_list.append(fst_df)\n",
    "concat_list.append(sec_df)"
   ]
  },
  {
   "cell_type": "code",
   "execution_count": 5,
   "id": "b2c7faef-44f8-46bd-bf4b-95b11bd04f2d",
   "metadata": {},
   "outputs": [
    {
     "data": {
      "text/plain": [
       "1.0    745\n",
       "0.0     95\n",
       "Name: label, dtype: int64"
      ]
     },
     "execution_count": 5,
     "metadata": {},
     "output_type": "execute_result"
    }
   ],
   "source": [
    "main_df = pd.concat(concat_list, axis=0, ignore_index=True)\n",
    "main_df['label'].value_counts()"
   ]
  },
  {
   "cell_type": "code",
   "execution_count": 6,
   "id": "7efd5d43-7b9e-4f16-87a5-a573449d86a4",
   "metadata": {},
   "outputs": [
    {
     "data": {
      "text/html": [
       "<div>\n",
       "<style scoped>\n",
       "    .dataframe tbody tr th:only-of-type {\n",
       "        vertical-align: middle;\n",
       "    }\n",
       "\n",
       "    .dataframe tbody tr th {\n",
       "        vertical-align: top;\n",
       "    }\n",
       "\n",
       "    .dataframe thead th {\n",
       "        text-align: right;\n",
       "    }\n",
       "</style>\n",
       "<table border=\"1\" class=\"dataframe\">\n",
       "  <thead>\n",
       "    <tr style=\"text-align: right;\">\n",
       "      <th></th>\n",
       "      <th>label</th>\n",
       "    </tr>\n",
       "  </thead>\n",
       "  <tbody>\n",
       "    <tr>\n",
       "      <th>count</th>\n",
       "      <td>840.000000</td>\n",
       "    </tr>\n",
       "    <tr>\n",
       "      <th>mean</th>\n",
       "      <td>0.886905</td>\n",
       "    </tr>\n",
       "    <tr>\n",
       "      <th>std</th>\n",
       "      <td>0.316898</td>\n",
       "    </tr>\n",
       "    <tr>\n",
       "      <th>min</th>\n",
       "      <td>0.000000</td>\n",
       "    </tr>\n",
       "    <tr>\n",
       "      <th>25%</th>\n",
       "      <td>1.000000</td>\n",
       "    </tr>\n",
       "    <tr>\n",
       "      <th>50%</th>\n",
       "      <td>1.000000</td>\n",
       "    </tr>\n",
       "    <tr>\n",
       "      <th>75%</th>\n",
       "      <td>1.000000</td>\n",
       "    </tr>\n",
       "    <tr>\n",
       "      <th>max</th>\n",
       "      <td>1.000000</td>\n",
       "    </tr>\n",
       "  </tbody>\n",
       "</table>\n",
       "</div>"
      ],
      "text/plain": [
       "            label\n",
       "count  840.000000\n",
       "mean     0.886905\n",
       "std      0.316898\n",
       "min      0.000000\n",
       "25%      1.000000\n",
       "50%      1.000000\n",
       "75%      1.000000\n",
       "max      1.000000"
      ]
     },
     "execution_count": 6,
     "metadata": {},
     "output_type": "execute_result"
    }
   ],
   "source": [
    "main_df.describe()"
   ]
  },
  {
   "cell_type": "code",
   "execution_count": 7,
   "id": "7267dd30-4325-4c69-9249-96831a203cc9",
   "metadata": {},
   "outputs": [
    {
     "data": {
      "text/html": [
       "<div>\n",
       "<style scoped>\n",
       "    .dataframe tbody tr th:only-of-type {\n",
       "        vertical-align: middle;\n",
       "    }\n",
       "\n",
       "    .dataframe tbody tr th {\n",
       "        vertical-align: top;\n",
       "    }\n",
       "\n",
       "    .dataframe thead th {\n",
       "        text-align: right;\n",
       "    }\n",
       "</style>\n",
       "<table border=\"1\" class=\"dataframe\">\n",
       "  <thead>\n",
       "    <tr style=\"text-align: right;\">\n",
       "      <th></th>\n",
       "      <th>main</th>\n",
       "      <th>mid</th>\n",
       "      <th>sub</th>\n",
       "      <th>name</th>\n",
       "      <th>price</th>\n",
       "      <th>ship</th>\n",
       "      <th>platform</th>\n",
       "      <th>link</th>\n",
       "      <th>label</th>\n",
       "    </tr>\n",
       "  </thead>\n",
       "  <tbody>\n",
       "    <tr>\n",
       "      <th>0</th>\n",
       "      <td>가전/TV</td>\n",
       "      <td>생활가전</td>\n",
       "      <td>세탁기+건조기세트</td>\n",
       "      <td>LG전자 트롬 워시타워 W17WTA</td>\n",
       "      <td>2,272,610</td>\n",
       "      <td>(무료배송)</td>\n",
       "      <td>옥션</td>\n",
       "      <td>http://prod.danawa.com/bridge/loadingBridge.ht...</td>\n",
       "      <td>0.0</td>\n",
       "    </tr>\n",
       "    <tr>\n",
       "      <th>1</th>\n",
       "      <td>가전/TV</td>\n",
       "      <td>생활가전</td>\n",
       "      <td>세탁기+건조기세트</td>\n",
       "      <td>LG전자 트롬 워시타워 W17WTA</td>\n",
       "      <td>2,272,610</td>\n",
       "      <td>(무료배송)</td>\n",
       "      <td>옥션</td>\n",
       "      <td>http://prod.danawa.com/bridge/loadingBridge.ht...</td>\n",
       "      <td>0.0</td>\n",
       "    </tr>\n",
       "    <tr>\n",
       "      <th>2</th>\n",
       "      <td>가전/TV</td>\n",
       "      <td>생활가전</td>\n",
       "      <td>세탁기+건조기세트</td>\n",
       "      <td>LG전자 트롬 워시타워 W17WTA</td>\n",
       "      <td>2,277,440</td>\n",
       "      <td>(무료배송)</td>\n",
       "      <td>11번가</td>\n",
       "      <td>http://prod.danawa.com/bridge/loadingBridge.ht...</td>\n",
       "      <td>1.0</td>\n",
       "    </tr>\n",
       "    <tr>\n",
       "      <th>3</th>\n",
       "      <td>가전/TV</td>\n",
       "      <td>생활가전</td>\n",
       "      <td>세탁기+건조기세트</td>\n",
       "      <td>LG전자 트롬 워시타워 W17WTA</td>\n",
       "      <td>2,291,960</td>\n",
       "      <td>(무료배송)</td>\n",
       "      <td>11번가</td>\n",
       "      <td>http://prod.danawa.com/bridge/loadingBridge.ht...</td>\n",
       "      <td>0.0</td>\n",
       "    </tr>\n",
       "    <tr>\n",
       "      <th>4</th>\n",
       "      <td>가전/TV</td>\n",
       "      <td>생활가전</td>\n",
       "      <td>세탁기+건조기세트</td>\n",
       "      <td>LG전자 트롬 워시타워 W17WTA</td>\n",
       "      <td>2,311,700</td>\n",
       "      <td>(무료배송)</td>\n",
       "      <td>11번가</td>\n",
       "      <td>http://prod.danawa.com/bridge/loadingBridge.ht...</td>\n",
       "      <td>0.0</td>\n",
       "    </tr>\n",
       "  </tbody>\n",
       "</table>\n",
       "</div>"
      ],
      "text/plain": [
       "    main   mid        sub                 name      price    ship platform  \\\n",
       "0  가전/TV  생활가전  세탁기+건조기세트  LG전자 트롬 워시타워 W17WTA  2,272,610  (무료배송)       옥션   \n",
       "1  가전/TV  생활가전  세탁기+건조기세트  LG전자 트롬 워시타워 W17WTA  2,272,610  (무료배송)       옥션   \n",
       "2  가전/TV  생활가전  세탁기+건조기세트  LG전자 트롬 워시타워 W17WTA  2,277,440  (무료배송)     11번가   \n",
       "3  가전/TV  생활가전  세탁기+건조기세트  LG전자 트롬 워시타워 W17WTA  2,291,960  (무료배송)     11번가   \n",
       "4  가전/TV  생활가전  세탁기+건조기세트  LG전자 트롬 워시타워 W17WTA  2,311,700  (무료배송)     11번가   \n",
       "\n",
       "                                                link  label  \n",
       "0  http://prod.danawa.com/bridge/loadingBridge.ht...    0.0  \n",
       "1  http://prod.danawa.com/bridge/loadingBridge.ht...    0.0  \n",
       "2  http://prod.danawa.com/bridge/loadingBridge.ht...    1.0  \n",
       "3  http://prod.danawa.com/bridge/loadingBridge.ht...    0.0  \n",
       "4  http://prod.danawa.com/bridge/loadingBridge.ht...    0.0  "
      ]
     },
     "execution_count": 7,
     "metadata": {},
     "output_type": "execute_result"
    }
   ],
   "source": [
    "main_df.head()"
   ]
  },
  {
   "cell_type": "code",
   "execution_count": 8,
   "id": "67e7c752-6afc-4594-b8dc-82c25ad98740",
   "metadata": {},
   "outputs": [
    {
     "data": {
      "text/html": [
       "<div>\n",
       "<style scoped>\n",
       "    .dataframe tbody tr th:only-of-type {\n",
       "        vertical-align: middle;\n",
       "    }\n",
       "\n",
       "    .dataframe tbody tr th {\n",
       "        vertical-align: top;\n",
       "    }\n",
       "\n",
       "    .dataframe thead th {\n",
       "        text-align: right;\n",
       "    }\n",
       "</style>\n",
       "<table border=\"1\" class=\"dataframe\">\n",
       "  <thead>\n",
       "    <tr style=\"text-align: right;\">\n",
       "      <th></th>\n",
       "      <th>main</th>\n",
       "      <th>mid</th>\n",
       "      <th>sub</th>\n",
       "      <th>name</th>\n",
       "      <th>price</th>\n",
       "      <th>ship</th>\n",
       "      <th>platform</th>\n",
       "      <th>label</th>\n",
       "    </tr>\n",
       "  </thead>\n",
       "  <tbody>\n",
       "    <tr>\n",
       "      <th>0</th>\n",
       "      <td>가전/TV</td>\n",
       "      <td>생활가전</td>\n",
       "      <td>세탁기+건조기세트</td>\n",
       "      <td>LG전자 트롬 워시타워 W17WTA</td>\n",
       "      <td>2,272,610</td>\n",
       "      <td>(무료배송)</td>\n",
       "      <td>옥션</td>\n",
       "      <td>0.0</td>\n",
       "    </tr>\n",
       "    <tr>\n",
       "      <th>1</th>\n",
       "      <td>가전/TV</td>\n",
       "      <td>생활가전</td>\n",
       "      <td>세탁기+건조기세트</td>\n",
       "      <td>LG전자 트롬 워시타워 W17WTA</td>\n",
       "      <td>2,272,610</td>\n",
       "      <td>(무료배송)</td>\n",
       "      <td>옥션</td>\n",
       "      <td>0.0</td>\n",
       "    </tr>\n",
       "    <tr>\n",
       "      <th>2</th>\n",
       "      <td>가전/TV</td>\n",
       "      <td>생활가전</td>\n",
       "      <td>세탁기+건조기세트</td>\n",
       "      <td>LG전자 트롬 워시타워 W17WTA</td>\n",
       "      <td>2,277,440</td>\n",
       "      <td>(무료배송)</td>\n",
       "      <td>11번가</td>\n",
       "      <td>1.0</td>\n",
       "    </tr>\n",
       "    <tr>\n",
       "      <th>3</th>\n",
       "      <td>가전/TV</td>\n",
       "      <td>생활가전</td>\n",
       "      <td>세탁기+건조기세트</td>\n",
       "      <td>LG전자 트롬 워시타워 W17WTA</td>\n",
       "      <td>2,291,960</td>\n",
       "      <td>(무료배송)</td>\n",
       "      <td>11번가</td>\n",
       "      <td>0.0</td>\n",
       "    </tr>\n",
       "    <tr>\n",
       "      <th>4</th>\n",
       "      <td>가전/TV</td>\n",
       "      <td>생활가전</td>\n",
       "      <td>세탁기+건조기세트</td>\n",
       "      <td>LG전자 트롬 워시타워 W17WTA</td>\n",
       "      <td>2,311,700</td>\n",
       "      <td>(무료배송)</td>\n",
       "      <td>11번가</td>\n",
       "      <td>0.0</td>\n",
       "    </tr>\n",
       "  </tbody>\n",
       "</table>\n",
       "</div>"
      ],
      "text/plain": [
       "    main   mid        sub                 name      price    ship platform  \\\n",
       "0  가전/TV  생활가전  세탁기+건조기세트  LG전자 트롬 워시타워 W17WTA  2,272,610  (무료배송)       옥션   \n",
       "1  가전/TV  생활가전  세탁기+건조기세트  LG전자 트롬 워시타워 W17WTA  2,272,610  (무료배송)       옥션   \n",
       "2  가전/TV  생활가전  세탁기+건조기세트  LG전자 트롬 워시타워 W17WTA  2,277,440  (무료배송)     11번가   \n",
       "3  가전/TV  생활가전  세탁기+건조기세트  LG전자 트롬 워시타워 W17WTA  2,291,960  (무료배송)     11번가   \n",
       "4  가전/TV  생활가전  세탁기+건조기세트  LG전자 트롬 워시타워 W17WTA  2,311,700  (무료배송)     11번가   \n",
       "\n",
       "   label  \n",
       "0    0.0  \n",
       "1    0.0  \n",
       "2    1.0  \n",
       "3    0.0  \n",
       "4    0.0  "
      ]
     },
     "execution_count": 8,
     "metadata": {},
     "output_type": "execute_result"
    }
   ],
   "source": [
    "main_df = main_df.drop('link', axis=1)\n",
    "main_df.head()"
   ]
  },
  {
   "cell_type": "code",
   "execution_count": 9,
   "id": "e7b88429-fa75-4035-bafc-2938d0fddbe5",
   "metadata": {},
   "outputs": [
    {
     "data": {
      "text/plain": [
       "(무료배송)           832\n",
       "(배송비 3,000원)       3\n",
       "(배송비 30,000원)      2\n",
       "(배송비 5,000원)       2\n",
       "(배송비 2,500원)       1\n",
       "Name: ship, dtype: int64"
      ]
     },
     "execution_count": 9,
     "metadata": {},
     "output_type": "execute_result"
    }
   ],
   "source": [
    "main_df['ship'].value_counts()"
   ]
  },
  {
   "cell_type": "code",
   "execution_count": 10,
   "id": "8a1f8452-2364-4cd8-a995-1666093128e2",
   "metadata": {
    "pycharm": {
     "name": "#%%\n"
    }
   },
   "outputs": [
    {
     "data": {
      "text/plain": [
       "000000           832\n",
       "000003000000       3\n",
       "0000030000000      2\n",
       "000005000000       2\n",
       "000002050000       1\n",
       "Name: ship, dtype: int64"
      ]
     },
     "execution_count": 10,
     "metadata": {},
     "output_type": "execute_result"
    }
   ],
   "source": [
    "# ship price numeric data type으로 변경\n",
    "test = main_df\n",
    "#test['ship'].value_counts()\n",
    "# regex로 replace가 동작했기 때문에 defalut value가 동작하지 않음\n",
    "# null 값을 변환하는 추가 과정이 필요\n",
    "test = test['ship'].replace( value='0', regex='[^0-9]' )\n",
    "test = test.replace('', '0')\n",
    "# test.value_counts()\n",
    "\n",
    "change_df = main_df\n",
    "change_df['ship'] = test\n",
    "main_df = change_df\n",
    "main_df['ship'].value_counts()"
   ]
  },
  {
   "cell_type": "code",
   "execution_count": 11,
   "id": "4c080ec7",
   "metadata": {
    "collapsed": false,
    "jupyter": {
     "outputs_hidden": false
    },
    "pycharm": {
     "name": "#%%\n"
    }
   },
   "outputs": [
    {
     "data": {
      "text/html": [
       "<div>\n",
       "<style scoped>\n",
       "    .dataframe tbody tr th:only-of-type {\n",
       "        vertical-align: middle;\n",
       "    }\n",
       "\n",
       "    .dataframe tbody tr th {\n",
       "        vertical-align: top;\n",
       "    }\n",
       "\n",
       "    .dataframe thead th {\n",
       "        text-align: right;\n",
       "    }\n",
       "</style>\n",
       "<table border=\"1\" class=\"dataframe\">\n",
       "  <thead>\n",
       "    <tr style=\"text-align: right;\">\n",
       "      <th></th>\n",
       "      <th>main</th>\n",
       "      <th>mid</th>\n",
       "      <th>sub</th>\n",
       "      <th>name</th>\n",
       "      <th>price</th>\n",
       "      <th>ship</th>\n",
       "      <th>platform</th>\n",
       "      <th>label</th>\n",
       "    </tr>\n",
       "  </thead>\n",
       "  <tbody>\n",
       "    <tr>\n",
       "      <th>0</th>\n",
       "      <td>가전/TV</td>\n",
       "      <td>생활가전</td>\n",
       "      <td>세탁기+건조기세트</td>\n",
       "      <td>LG전자 트롬 워시타워 W17WTA</td>\n",
       "      <td>2,272,610</td>\n",
       "      <td>000000</td>\n",
       "      <td>옥션</td>\n",
       "      <td>0.0</td>\n",
       "    </tr>\n",
       "    <tr>\n",
       "      <th>1</th>\n",
       "      <td>가전/TV</td>\n",
       "      <td>생활가전</td>\n",
       "      <td>세탁기+건조기세트</td>\n",
       "      <td>LG전자 트롬 워시타워 W17WTA</td>\n",
       "      <td>2,272,610</td>\n",
       "      <td>000000</td>\n",
       "      <td>옥션</td>\n",
       "      <td>0.0</td>\n",
       "    </tr>\n",
       "    <tr>\n",
       "      <th>2</th>\n",
       "      <td>가전/TV</td>\n",
       "      <td>생활가전</td>\n",
       "      <td>세탁기+건조기세트</td>\n",
       "      <td>LG전자 트롬 워시타워 W17WTA</td>\n",
       "      <td>2,277,440</td>\n",
       "      <td>000000</td>\n",
       "      <td>11번가</td>\n",
       "      <td>1.0</td>\n",
       "    </tr>\n",
       "    <tr>\n",
       "      <th>3</th>\n",
       "      <td>가전/TV</td>\n",
       "      <td>생활가전</td>\n",
       "      <td>세탁기+건조기세트</td>\n",
       "      <td>LG전자 트롬 워시타워 W17WTA</td>\n",
       "      <td>2,291,960</td>\n",
       "      <td>000000</td>\n",
       "      <td>11번가</td>\n",
       "      <td>0.0</td>\n",
       "    </tr>\n",
       "    <tr>\n",
       "      <th>4</th>\n",
       "      <td>가전/TV</td>\n",
       "      <td>생활가전</td>\n",
       "      <td>세탁기+건조기세트</td>\n",
       "      <td>LG전자 트롬 워시타워 W17WTA</td>\n",
       "      <td>2,311,700</td>\n",
       "      <td>000000</td>\n",
       "      <td>11번가</td>\n",
       "      <td>0.0</td>\n",
       "    </tr>\n",
       "  </tbody>\n",
       "</table>\n",
       "</div>"
      ],
      "text/plain": [
       "    main   mid        sub                 name      price    ship platform  \\\n",
       "0  가전/TV  생활가전  세탁기+건조기세트  LG전자 트롬 워시타워 W17WTA  2,272,610  000000       옥션   \n",
       "1  가전/TV  생활가전  세탁기+건조기세트  LG전자 트롬 워시타워 W17WTA  2,272,610  000000       옥션   \n",
       "2  가전/TV  생활가전  세탁기+건조기세트  LG전자 트롬 워시타워 W17WTA  2,277,440  000000     11번가   \n",
       "3  가전/TV  생활가전  세탁기+건조기세트  LG전자 트롬 워시타워 W17WTA  2,291,960  000000     11번가   \n",
       "4  가전/TV  생활가전  세탁기+건조기세트  LG전자 트롬 워시타워 W17WTA  2,311,700  000000     11번가   \n",
       "\n",
       "   label  \n",
       "0    0.0  \n",
       "1    0.0  \n",
       "2    1.0  \n",
       "3    0.0  \n",
       "4    0.0  "
      ]
     },
     "execution_count": 11,
     "metadata": {},
     "output_type": "execute_result"
    }
   ],
   "source": [
    "price_series = main_df['price']\n",
    "main_df.head()"
   ]
  },
  {
   "cell_type": "code",
   "execution_count": 12,
   "id": "49e905c1",
   "metadata": {
    "collapsed": false,
    "jupyter": {
     "outputs_hidden": false
    },
    "pycharm": {
     "name": "#%%\n"
    }
   },
   "outputs": [
    {
     "data": {
      "text/plain": [
       "main         object\n",
       "mid          object\n",
       "sub          object\n",
       "name         object\n",
       "price        object\n",
       "ship         object\n",
       "platform     object\n",
       "label       float64\n",
       "dtype: object"
      ]
     },
     "execution_count": 12,
     "metadata": {},
     "output_type": "execute_result"
    }
   ],
   "source": [
    "price_series = price_series.replace('[\\$,]', '', regex=True)\n",
    "# price_series.head()\n",
    "main_df['price'] = price_series\n",
    "main_df.dtypes"
   ]
  },
  {
   "cell_type": "code",
   "execution_count": 13,
   "id": "995ac36e",
   "metadata": {
    "collapsed": false,
    "jupyter": {
     "outputs_hidden": false
    },
    "pycharm": {
     "name": "#%%\n"
    }
   },
   "outputs": [],
   "source": [
    "test = main_df\n",
    "#tf.keras.utils.to_categorical(test['platform'], int(len(test['platform'].unique())))\n",
    "\n",
    "# 원했던 one-hot encoding\n",
    "plt_onehot = pd.get_dummies(test['platform'])"
   ]
  },
  {
   "cell_type": "code",
   "execution_count": 14,
   "id": "927e60ef",
   "metadata": {
    "collapsed": false,
    "jupyter": {
     "outputs_hidden": false
    },
    "pycharm": {
     "name": "#%%\n"
    }
   },
   "outputs": [],
   "source": [
    "# axis가 없는 경우 그냥 하나로\n",
    "test = pd.concat([test, plt_onehot], axis=1)\n",
    "test = test.drop('platform', axis=1)"
   ]
  },
  {
   "cell_type": "code",
   "execution_count": 15,
   "id": "5808c6d8",
   "metadata": {
    "collapsed": false,
    "jupyter": {
     "outputs_hidden": false
    },
    "pycharm": {
     "name": "#%%\n"
    }
   },
   "outputs": [
    {
     "data": {
      "text/html": [
       "<div>\n",
       "<style scoped>\n",
       "    .dataframe tbody tr th:only-of-type {\n",
       "        vertical-align: middle;\n",
       "    }\n",
       "\n",
       "    .dataframe tbody tr th {\n",
       "        vertical-align: top;\n",
       "    }\n",
       "\n",
       "    .dataframe thead th {\n",
       "        text-align: right;\n",
       "    }\n",
       "</style>\n",
       "<table border=\"1\" class=\"dataframe\">\n",
       "  <thead>\n",
       "    <tr style=\"text-align: right;\">\n",
       "      <th></th>\n",
       "      <th>main</th>\n",
       "      <th>mid</th>\n",
       "      <th>sub</th>\n",
       "      <th>name</th>\n",
       "      <th>price</th>\n",
       "      <th>ship</th>\n",
       "      <th>label</th>\n",
       "      <th>11번가</th>\n",
       "      <th>AK몰</th>\n",
       "      <th>BestPC</th>\n",
       "      <th>...</th>\n",
       "      <th>퍼스트</th>\n",
       "      <th>피씨로드</th>\n",
       "      <th>피온</th>\n",
       "      <th>하이마트 쇼핑몰</th>\n",
       "      <th>하프클럽</th>\n",
       "      <th>한샘몰</th>\n",
       "      <th>해밀컴</th>\n",
       "      <th>현대Hmall</th>\n",
       "      <th>홈&amp;쇼핑</th>\n",
       "      <th>홈플러스</th>\n",
       "    </tr>\n",
       "  </thead>\n",
       "  <tbody>\n",
       "    <tr>\n",
       "      <th>0</th>\n",
       "      <td>가전/TV</td>\n",
       "      <td>생활가전</td>\n",
       "      <td>세탁기+건조기세트</td>\n",
       "      <td>LG전자 트롬 워시타워 W17WTA</td>\n",
       "      <td>2272610</td>\n",
       "      <td>000000</td>\n",
       "      <td>0.0</td>\n",
       "      <td>0</td>\n",
       "      <td>0</td>\n",
       "      <td>0</td>\n",
       "      <td>...</td>\n",
       "      <td>0</td>\n",
       "      <td>0</td>\n",
       "      <td>0</td>\n",
       "      <td>0</td>\n",
       "      <td>0</td>\n",
       "      <td>0</td>\n",
       "      <td>0</td>\n",
       "      <td>0</td>\n",
       "      <td>0</td>\n",
       "      <td>0</td>\n",
       "    </tr>\n",
       "    <tr>\n",
       "      <th>1</th>\n",
       "      <td>가전/TV</td>\n",
       "      <td>생활가전</td>\n",
       "      <td>세탁기+건조기세트</td>\n",
       "      <td>LG전자 트롬 워시타워 W17WTA</td>\n",
       "      <td>2272610</td>\n",
       "      <td>000000</td>\n",
       "      <td>0.0</td>\n",
       "      <td>0</td>\n",
       "      <td>0</td>\n",
       "      <td>0</td>\n",
       "      <td>...</td>\n",
       "      <td>0</td>\n",
       "      <td>0</td>\n",
       "      <td>0</td>\n",
       "      <td>0</td>\n",
       "      <td>0</td>\n",
       "      <td>0</td>\n",
       "      <td>0</td>\n",
       "      <td>0</td>\n",
       "      <td>0</td>\n",
       "      <td>0</td>\n",
       "    </tr>\n",
       "    <tr>\n",
       "      <th>2</th>\n",
       "      <td>가전/TV</td>\n",
       "      <td>생활가전</td>\n",
       "      <td>세탁기+건조기세트</td>\n",
       "      <td>LG전자 트롬 워시타워 W17WTA</td>\n",
       "      <td>2277440</td>\n",
       "      <td>000000</td>\n",
       "      <td>1.0</td>\n",
       "      <td>1</td>\n",
       "      <td>0</td>\n",
       "      <td>0</td>\n",
       "      <td>...</td>\n",
       "      <td>0</td>\n",
       "      <td>0</td>\n",
       "      <td>0</td>\n",
       "      <td>0</td>\n",
       "      <td>0</td>\n",
       "      <td>0</td>\n",
       "      <td>0</td>\n",
       "      <td>0</td>\n",
       "      <td>0</td>\n",
       "      <td>0</td>\n",
       "    </tr>\n",
       "    <tr>\n",
       "      <th>3</th>\n",
       "      <td>가전/TV</td>\n",
       "      <td>생활가전</td>\n",
       "      <td>세탁기+건조기세트</td>\n",
       "      <td>LG전자 트롬 워시타워 W17WTA</td>\n",
       "      <td>2291960</td>\n",
       "      <td>000000</td>\n",
       "      <td>0.0</td>\n",
       "      <td>1</td>\n",
       "      <td>0</td>\n",
       "      <td>0</td>\n",
       "      <td>...</td>\n",
       "      <td>0</td>\n",
       "      <td>0</td>\n",
       "      <td>0</td>\n",
       "      <td>0</td>\n",
       "      <td>0</td>\n",
       "      <td>0</td>\n",
       "      <td>0</td>\n",
       "      <td>0</td>\n",
       "      <td>0</td>\n",
       "      <td>0</td>\n",
       "    </tr>\n",
       "    <tr>\n",
       "      <th>4</th>\n",
       "      <td>가전/TV</td>\n",
       "      <td>생활가전</td>\n",
       "      <td>세탁기+건조기세트</td>\n",
       "      <td>LG전자 트롬 워시타워 W17WTA</td>\n",
       "      <td>2311700</td>\n",
       "      <td>000000</td>\n",
       "      <td>0.0</td>\n",
       "      <td>1</td>\n",
       "      <td>0</td>\n",
       "      <td>0</td>\n",
       "      <td>...</td>\n",
       "      <td>0</td>\n",
       "      <td>0</td>\n",
       "      <td>0</td>\n",
       "      <td>0</td>\n",
       "      <td>0</td>\n",
       "      <td>0</td>\n",
       "      <td>0</td>\n",
       "      <td>0</td>\n",
       "      <td>0</td>\n",
       "      <td>0</td>\n",
       "    </tr>\n",
       "  </tbody>\n",
       "</table>\n",
       "<p>5 rows × 74 columns</p>\n",
       "</div>"
      ],
      "text/plain": [
       "    main   mid        sub                 name    price    ship  label  11번가  \\\n",
       "0  가전/TV  생활가전  세탁기+건조기세트  LG전자 트롬 워시타워 W17WTA  2272610  000000    0.0     0   \n",
       "1  가전/TV  생활가전  세탁기+건조기세트  LG전자 트롬 워시타워 W17WTA  2272610  000000    0.0     0   \n",
       "2  가전/TV  생활가전  세탁기+건조기세트  LG전자 트롬 워시타워 W17WTA  2277440  000000    1.0     1   \n",
       "3  가전/TV  생활가전  세탁기+건조기세트  LG전자 트롬 워시타워 W17WTA  2291960  000000    0.0     1   \n",
       "4  가전/TV  생활가전  세탁기+건조기세트  LG전자 트롬 워시타워 W17WTA  2311700  000000    0.0     1   \n",
       "\n",
       "   AK몰  BestPC  ...  퍼스트  피씨로드  피온  하이마트 쇼핑몰  하프클럽  한샘몰  해밀컴  현대Hmall  홈&쇼핑  \\\n",
       "0    0       0  ...    0     0   0         0     0    0    0        0     0   \n",
       "1    0       0  ...    0     0   0         0     0    0    0        0     0   \n",
       "2    0       0  ...    0     0   0         0     0    0    0        0     0   \n",
       "3    0       0  ...    0     0   0         0     0    0    0        0     0   \n",
       "4    0       0  ...    0     0   0         0     0    0    0        0     0   \n",
       "\n",
       "   홈플러스  \n",
       "0     0  \n",
       "1     0  \n",
       "2     0  \n",
       "3     0  \n",
       "4     0  \n",
       "\n",
       "[5 rows x 74 columns]"
      ]
     },
     "execution_count": 15,
     "metadata": {},
     "output_type": "execute_result"
    }
   ],
   "source": [
    "test.head()"
   ]
  },
  {
   "cell_type": "code",
   "execution_count": 16,
   "id": "81fe44e8",
   "metadata": {
    "collapsed": false,
    "jupyter": {
     "outputs_hidden": false
    },
    "pycharm": {
     "name": "#%%\n"
    }
   },
   "outputs": [],
   "source": [
    "test = test.drop('main', axis=1)\n",
    "test = test.drop('mid', axis=1)"
   ]
  },
  {
   "cell_type": "code",
   "execution_count": 17,
   "id": "0bc7a9ff",
   "metadata": {
    "collapsed": false,
    "jupyter": {
     "outputs_hidden": false
    },
    "pycharm": {
     "name": "#%%\n"
    }
   },
   "outputs": [],
   "source": [
    "sub_onehot = pd.get_dummies(test['sub'])\n",
    "name_onehot = pd.get_dummies(test['name'])"
   ]
  },
  {
   "cell_type": "code",
   "execution_count": 18,
   "id": "675b9146",
   "metadata": {
    "collapsed": false,
    "jupyter": {
     "outputs_hidden": false
    },
    "pycharm": {
     "name": "#%%\n"
    }
   },
   "outputs": [
    {
     "data": {
      "text/plain": [
       "노트북 전체                                        uint8\n",
       "세탁기+건조기세트                                     uint8\n",
       "APPLE 2020 맥북에어 MGN63KH/A (8GB, SSD 256GB)    uint8\n",
       "ASUS 비보북 15 OLED M513UA-L1284 (SSD 256GB)     uint8\n",
       "LG전자 오브제컬렉션 워시타워 W16EG                        uint8\n",
       "                                              ...  \n",
       "한샘몰                                           uint8\n",
       "해밀컴                                           uint8\n",
       "현대Hmall                                       uint8\n",
       "홈&쇼핑                                          uint8\n",
       "홈플러스                                          uint8\n",
       "Length: 87, dtype: object"
      ]
     },
     "execution_count": 18,
     "metadata": {},
     "output_type": "execute_result"
    }
   ],
   "source": [
    "pre_onehot = pd.concat([sub_onehot, name_onehot, test], axis=1)\n",
    "pre_onehot = pre_onehot.drop('sub', axis=1)\n",
    "pre_onehot = pre_onehot.drop('name', axis=1)\n",
    "pre_onehot.dtypes"
   ]
  },
  {
   "cell_type": "code",
   "execution_count": 19,
   "id": "738b7ede",
   "metadata": {
    "collapsed": false,
    "jupyter": {
     "outputs_hidden": false
    },
    "pycharm": {
     "name": "#%%\n"
    }
   },
   "outputs": [],
   "source": [
    "test = pre_onehot\n",
    "num_price = pd.to_numeric(test['price'])\n",
    "num_ship = pd.to_numeric(test['ship'])\n",
    "num_label = pd.to_numeric(test['label'])\n",
    "\n",
    "test = test.drop('price', axis=1)\n",
    "test = test.drop('ship', axis=1)\n",
    "test = test.drop('label', axis=1)\n",
    "\n",
    "test = pd.concat([test, num_price, num_ship, num_label], axis=1)\n",
    "#test.describe()"
   ]
  },
  {
   "cell_type": "markdown",
   "id": "d18ce6d1",
   "metadata": {},
   "source": [
    "### Modeling stage\n",
    "전에 사용했던 XGboosting model을 사용"
   ]
  },
  {
   "cell_type": "markdown",
   "id": "1ad83f0b",
   "metadata": {},
   "source": [
    "df를 모델링의 중점이 되는 데이터프레임으로 할당"
   ]
  },
  {
   "cell_type": "code",
   "execution_count": 20,
   "id": "fb3c0fea",
   "metadata": {
    "collapsed": false,
    "jupyter": {
     "outputs_hidden": false
    },
    "pycharm": {
     "name": "#%%\n"
    }
   },
   "outputs": [],
   "source": [
    "df = test"
   ]
  },
  {
   "cell_type": "code",
   "execution_count": 21,
   "id": "51c1aca2",
   "metadata": {
    "collapsed": false,
    "jupyter": {
     "outputs_hidden": false
    },
    "pycharm": {
     "name": "#%%\n"
    }
   },
   "outputs": [
    {
     "data": {
      "text/plain": [
       "((420, 87), (420, 87))"
      ]
     },
     "execution_count": 21,
     "metadata": {},
     "output_type": "execute_result"
    }
   ],
   "source": [
    "# y: index for data sizes\n",
    "y = [idx for idx in range(0, df.shape[0])]\n",
    "# Test-Set 분리\n",
    "x_train, x_test, y_train, y_test = train_test_split(df, y, test_size=0.5, random_state=10)\n",
    "x_train.shape, x_test.shape"
   ]
  },
  {
   "cell_type": "code",
   "execution_count": 22,
   "id": "99628dec",
   "metadata": {
    "collapsed": false,
    "jupyter": {
     "outputs_hidden": false
    },
    "pycharm": {
     "name": "#%%\n"
    }
   },
   "outputs": [],
   "source": [
    "x = x_train.drop('label', axis=1)\n",
    "x_vali = x_test.drop('label', axis=1)\n",
    "\n",
    "y = x_train['label']\n",
    "y_vali = x_test['label']"
   ]
  },
  {
   "cell_type": "code",
   "execution_count": 23,
   "id": "102bc303",
   "metadata": {
    "collapsed": false,
    "jupyter": {
     "outputs_hidden": false
    },
    "pycharm": {
     "name": "#%%\n"
    }
   },
   "outputs": [],
   "source": [
    "# K-fold로 10개의 generator 생성\n",
    "kf = KFold(n_splits =  10, shuffle = True, random_state = 96)\n",
    "# Make Model\n",
    "xgb = XGBRegressor(random_state = 256)"
   ]
  },
  {
   "cell_type": "code",
   "execution_count": 24,
   "id": "ed601e5a",
   "metadata": {
    "collapsed": false,
    "jupyter": {
     "outputs_hidden": false
    },
    "pycharm": {
     "name": "#%%\n"
    }
   },
   "outputs": [
    {
     "name": "stderr",
     "output_type": "stream",
     "text": [
      "/Users/we/.pyenv/versions/3.8.12/envs/research/lib/python3.8/site-packages/xgboost/data.py:262: FutureWarning: pandas.Int64Index is deprecated and will be removed from pandas in a future version. Use pandas.Index with the appropriate dtype instead.\n",
      "  elif isinstance(data.columns, (pd.Int64Index, pd.RangeIndex)):\n",
      "/Users/we/.pyenv/versions/3.8.12/envs/research/lib/python3.8/site-packages/xgboost/data.py:262: FutureWarning: pandas.Int64Index is deprecated and will be removed from pandas in a future version. Use pandas.Index with the appropriate dtype instead.\n",
      "  elif isinstance(data.columns, (pd.Int64Index, pd.RangeIndex)):\n",
      "/Users/we/.pyenv/versions/3.8.12/envs/research/lib/python3.8/site-packages/xgboost/data.py:262: FutureWarning: pandas.Int64Index is deprecated and will be removed from pandas in a future version. Use pandas.Index with the appropriate dtype instead.\n",
      "  elif isinstance(data.columns, (pd.Int64Index, pd.RangeIndex)):\n",
      "/Users/we/.pyenv/versions/3.8.12/envs/research/lib/python3.8/site-packages/xgboost/data.py:262: FutureWarning: pandas.Int64Index is deprecated and will be removed from pandas in a future version. Use pandas.Index with the appropriate dtype instead.\n",
      "  elif isinstance(data.columns, (pd.Int64Index, pd.RangeIndex)):\n",
      "/Users/we/.pyenv/versions/3.8.12/envs/research/lib/python3.8/site-packages/xgboost/data.py:262: FutureWarning: pandas.Int64Index is deprecated and will be removed from pandas in a future version. Use pandas.Index with the appropriate dtype instead.\n",
      "  elif isinstance(data.columns, (pd.Int64Index, pd.RangeIndex)):\n",
      "/Users/we/.pyenv/versions/3.8.12/envs/research/lib/python3.8/site-packages/xgboost/data.py:262: FutureWarning: pandas.Int64Index is deprecated and will be removed from pandas in a future version. Use pandas.Index with the appropriate dtype instead.\n",
      "  elif isinstance(data.columns, (pd.Int64Index, pd.RangeIndex)):\n",
      "/Users/we/.pyenv/versions/3.8.12/envs/research/lib/python3.8/site-packages/xgboost/data.py:262: FutureWarning: pandas.Int64Index is deprecated and will be removed from pandas in a future version. Use pandas.Index with the appropriate dtype instead.\n",
      "  elif isinstance(data.columns, (pd.Int64Index, pd.RangeIndex)):\n",
      "/Users/we/.pyenv/versions/3.8.12/envs/research/lib/python3.8/site-packages/xgboost/data.py:262: FutureWarning: pandas.Int64Index is deprecated and will be removed from pandas in a future version. Use pandas.Index with the appropriate dtype instead.\n",
      "  elif isinstance(data.columns, (pd.Int64Index, pd.RangeIndex)):\n",
      "/Users/we/.pyenv/versions/3.8.12/envs/research/lib/python3.8/site-packages/xgboost/data.py:262: FutureWarning: pandas.Int64Index is deprecated and will be removed from pandas in a future version. Use pandas.Index with the appropriate dtype instead.\n",
      "  elif isinstance(data.columns, (pd.Int64Index, pd.RangeIndex)):\n",
      "/Users/we/.pyenv/versions/3.8.12/envs/research/lib/python3.8/site-packages/xgboost/data.py:262: FutureWarning: pandas.Int64Index is deprecated and will be removed from pandas in a future version. Use pandas.Index with the appropriate dtype instead.\n",
      "  elif isinstance(data.columns, (pd.Int64Index, pd.RangeIndex)):\n"
     ]
    }
   ],
   "source": [
    "rmse_list = []\n",
    "xgb_pred = np.zeros((x_train.shape[0]))\n",
    "\n",
    "# K(10)-fold validation Loop\n",
    "for tr_idx, val_idx in kf.split(x, y) :\n",
    "    tr_x, tr_y = x.iloc[tr_idx], y.iloc[tr_idx]\n",
    "    val_x, val_y = x.iloc[val_idx], y.iloc[val_idx]\n",
    "\n",
    "    xgb.fit(tr_x, tr_y)\n",
    "\n",
    "    pred = np.expm1([0 if x < 0 else x for x in xgb.predict(val_x)])\n",
    "    sub_pred = np.expm1([0 if x < 0 else x for x in xgb.predict(x_vali)])\n",
    "    rmse = np.sqrt(mean_squared_error(val_y, pred))\n",
    "\n",
    "\n",
    "    rmse_list.append(rmse)\n",
    "    xgb_pred += (sub_pred / 10)"
   ]
  },
  {
   "cell_type": "code",
   "execution_count": 25,
   "id": "e8427d68",
   "metadata": {
    "collapsed": false,
    "jupyter": {
     "outputs_hidden": false
    },
    "pycharm": {
     "name": "#%%\n"
    }
   },
   "outputs": [
    {
     "name": "stdout",
     "output_type": "stream",
     "text": [
      "MSE: 0.7355437313264962\n"
     ]
    }
   ],
   "source": [
    "print(f'MSE: {np.mean(rmse_list)}')"
   ]
  }
 ],
 "metadata": {
  "kernelspec": {
   "display_name": "Python 3 (ipykernel)",
   "language": "python",
   "name": "python3"
  },
  "language_info": {
   "codemirror_mode": {
    "name": "ipython",
    "version": 3
   },
   "file_extension": ".py",
   "mimetype": "text/x-python",
   "name": "python",
   "nbconvert_exporter": "python",
   "pygments_lexer": "ipython3",
   "version": "3.8.12"
  }
 },
 "nbformat": 4,
 "nbformat_minor": 5
}
