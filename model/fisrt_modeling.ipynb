{
 "cells": [
  {
   "cell_type": "code",
   "execution_count": 1,
   "id": "unable-ceremony",
   "metadata": {},
   "outputs": [],
   "source": [
    "import pandas as pd\n",
    "#import numpy as np\n",
    "#import tensorflow as tf"
   ]
  },
  {
   "cell_type": "code",
   "execution_count": 2,
   "id": "liquid-routine",
   "metadata": {},
   "outputs": [
    {
     "data": {
      "text/plain": "(            label\n count  630.000000\n mean     0.855556\n std      0.351819\n min      0.000000\n 25%      1.000000\n 50%      1.000000\n 75%      1.000000\n max      1.000000,\n        main   mid        sub                    name      price    ship  \\\n 2287  가전/TV  생활가전  세탁기+건조기세트  LG전자 오브제컬렉션 워시타워 W16EG  3,175,840  (무료배송)   \n 2288  가전/TV  생활가전  세탁기+건조기세트  LG전자 오브제컬렉션 워시타워 W16EG  3,175,850  (무료배송)   \n 2289  가전/TV  생활가전  세탁기+건조기세트  LG전자 오브제컬렉션 워시타워 W16EG  3,177,510  (무료배송)   \n 2290  가전/TV  생활가전  세탁기+건조기세트  LG전자 오브제컬렉션 워시타워 W16EG  3,188,270  (무료배송)   \n 2291  가전/TV  생활가전  세탁기+건조기세트  LG전자 오브제컬렉션 워시타워 W16EG  3,203,900  (무료배송)   \n \n      platform                                               link  label  \n 2287  신세계TV쇼핑  http://prod.danawa.com/bridge/loadingBridge.ht...    1.0  \n 2288      한샘몰  http://prod.danawa.com/bridge/loadingBridge.ht...    1.0  \n 2289       G9  http://prod.danawa.com/bridge/loadingBridge.ht...    1.0  \n 2290       G9  http://prod.danawa.com/bridge/loadingBridge.ht...    1.0  \n 2291      NS몰  http://prod.danawa.com/bridge/loadingBridge.ht...    1.0  )"
     },
     "execution_count": 2,
     "metadata": {},
     "output_type": "execute_result"
    }
   ],
   "source": [
    "# Import datas\n",
    "# 2144 세탁기\n",
    "# 2204 노트북\n",
    "df2144 = pd.read_csv('../data/220117.2144.csv', encoding = 'UTF-8')\n",
    "df2204 = pd.read_csv('../data/220117.2204.csv', encoding = 'UTF-8')\n",
    "\n",
    "df2144.describe(), df2144.tail()"
   ]
  },
  {
   "cell_type": "code",
   "execution_count": 3,
   "id": "hybrid-kennedy",
   "metadata": {},
   "outputs": [
    {
     "data": {
      "text/plain": "(array([ 0.,  1., nan]),\n 1.0    539\n 0.0     91\n Name: label, dtype: int64,\n 630)"
     },
     "execution_count": 3,
     "metadata": {},
     "output_type": "execute_result"
    }
   ],
   "source": [
    "# NaN의 갯수는 세지 않는구나.\n",
    "df2144['label'].unique(), df2144['label'].value_counts(), df2144['label'].count()"
   ]
  },
  {
   "cell_type": "code",
   "execution_count": 4,
   "id": "early-publicity",
   "metadata": {},
   "outputs": [],
   "source": [
    "# axis: NaN 데이터에 대해서 행 or 열을 Drop할지 정하는 변수\n",
    "# how: any or all 옵션 존재, any의 경우 하나라도 없을 경우 해당 행 또는 열을 드랍\n",
    "concat_list = []\n",
    "fst_df = df2144.dropna(axis='index', how='any')\n",
    "sec_df = df2204.dropna(axis='index', how='any')\n",
    "fst_df['label'].value_counts()\n",
    "\n",
    "concat_list.append(fst_df)\n",
    "concat_list.append(sec_df)"
   ]
  },
  {
   "cell_type": "code",
   "execution_count": 21,
   "id": "b2c7faef-44f8-46bd-bf4b-95b11bd04f2d",
   "metadata": {},
   "outputs": [
    {
     "data": {
      "text/plain": "1.0    745\n0.0     95\nName: label, dtype: int64"
     },
     "execution_count": 21,
     "metadata": {},
     "output_type": "execute_result"
    }
   ],
   "source": [
    "main_df = pd.concat(concat_list, axis=0, ignore_index=True)\n",
    "main_df['label'].value_counts()"
   ]
  },
  {
   "cell_type": "code",
   "execution_count": 22,
   "id": "7efd5d43-7b9e-4f16-87a5-a573449d86a4",
   "metadata": {},
   "outputs": [
    {
     "data": {
      "text/plain": "            label\ncount  840.000000\nmean     0.886905\nstd      0.316898\nmin      0.000000\n25%      1.000000\n50%      1.000000\n75%      1.000000\nmax      1.000000",
      "text/html": "<div>\n<style scoped>\n    .dataframe tbody tr th:only-of-type {\n        vertical-align: middle;\n    }\n\n    .dataframe tbody tr th {\n        vertical-align: top;\n    }\n\n    .dataframe thead th {\n        text-align: right;\n    }\n</style>\n<table border=\"1\" class=\"dataframe\">\n  <thead>\n    <tr style=\"text-align: right;\">\n      <th></th>\n      <th>label</th>\n    </tr>\n  </thead>\n  <tbody>\n    <tr>\n      <th>count</th>\n      <td>840.000000</td>\n    </tr>\n    <tr>\n      <th>mean</th>\n      <td>0.886905</td>\n    </tr>\n    <tr>\n      <th>std</th>\n      <td>0.316898</td>\n    </tr>\n    <tr>\n      <th>min</th>\n      <td>0.000000</td>\n    </tr>\n    <tr>\n      <th>25%</th>\n      <td>1.000000</td>\n    </tr>\n    <tr>\n      <th>50%</th>\n      <td>1.000000</td>\n    </tr>\n    <tr>\n      <th>75%</th>\n      <td>1.000000</td>\n    </tr>\n    <tr>\n      <th>max</th>\n      <td>1.000000</td>\n    </tr>\n  </tbody>\n</table>\n</div>"
     },
     "execution_count": 22,
     "metadata": {},
     "output_type": "execute_result"
    }
   ],
   "source": [
    "main_df.describe()"
   ]
  },
  {
   "cell_type": "code",
   "execution_count": 23,
   "id": "7267dd30-4325-4c69-9249-96831a203cc9",
   "metadata": {},
   "outputs": [
    {
     "data": {
      "text/plain": "    main   mid        sub                 name      price    ship platform  \\\n0  가전/TV  생활가전  세탁기+건조기세트  LG전자 트롬 워시타워 W17WTA  2,272,610  (무료배송)       옥션   \n1  가전/TV  생활가전  세탁기+건조기세트  LG전자 트롬 워시타워 W17WTA  2,272,610  (무료배송)       옥션   \n2  가전/TV  생활가전  세탁기+건조기세트  LG전자 트롬 워시타워 W17WTA  2,277,440  (무료배송)     11번가   \n3  가전/TV  생활가전  세탁기+건조기세트  LG전자 트롬 워시타워 W17WTA  2,291,960  (무료배송)     11번가   \n4  가전/TV  생활가전  세탁기+건조기세트  LG전자 트롬 워시타워 W17WTA  2,311,700  (무료배송)     11번가   \n\n                                                link  label  \n0  http://prod.danawa.com/bridge/loadingBridge.ht...    0.0  \n1  http://prod.danawa.com/bridge/loadingBridge.ht...    0.0  \n2  http://prod.danawa.com/bridge/loadingBridge.ht...    1.0  \n3  http://prod.danawa.com/bridge/loadingBridge.ht...    0.0  \n4  http://prod.danawa.com/bridge/loadingBridge.ht...    0.0  ",
      "text/html": "<div>\n<style scoped>\n    .dataframe tbody tr th:only-of-type {\n        vertical-align: middle;\n    }\n\n    .dataframe tbody tr th {\n        vertical-align: top;\n    }\n\n    .dataframe thead th {\n        text-align: right;\n    }\n</style>\n<table border=\"1\" class=\"dataframe\">\n  <thead>\n    <tr style=\"text-align: right;\">\n      <th></th>\n      <th>main</th>\n      <th>mid</th>\n      <th>sub</th>\n      <th>name</th>\n      <th>price</th>\n      <th>ship</th>\n      <th>platform</th>\n      <th>link</th>\n      <th>label</th>\n    </tr>\n  </thead>\n  <tbody>\n    <tr>\n      <th>0</th>\n      <td>가전/TV</td>\n      <td>생활가전</td>\n      <td>세탁기+건조기세트</td>\n      <td>LG전자 트롬 워시타워 W17WTA</td>\n      <td>2,272,610</td>\n      <td>(무료배송)</td>\n      <td>옥션</td>\n      <td>http://prod.danawa.com/bridge/loadingBridge.ht...</td>\n      <td>0.0</td>\n    </tr>\n    <tr>\n      <th>1</th>\n      <td>가전/TV</td>\n      <td>생활가전</td>\n      <td>세탁기+건조기세트</td>\n      <td>LG전자 트롬 워시타워 W17WTA</td>\n      <td>2,272,610</td>\n      <td>(무료배송)</td>\n      <td>옥션</td>\n      <td>http://prod.danawa.com/bridge/loadingBridge.ht...</td>\n      <td>0.0</td>\n    </tr>\n    <tr>\n      <th>2</th>\n      <td>가전/TV</td>\n      <td>생활가전</td>\n      <td>세탁기+건조기세트</td>\n      <td>LG전자 트롬 워시타워 W17WTA</td>\n      <td>2,277,440</td>\n      <td>(무료배송)</td>\n      <td>11번가</td>\n      <td>http://prod.danawa.com/bridge/loadingBridge.ht...</td>\n      <td>1.0</td>\n    </tr>\n    <tr>\n      <th>3</th>\n      <td>가전/TV</td>\n      <td>생활가전</td>\n      <td>세탁기+건조기세트</td>\n      <td>LG전자 트롬 워시타워 W17WTA</td>\n      <td>2,291,960</td>\n      <td>(무료배송)</td>\n      <td>11번가</td>\n      <td>http://prod.danawa.com/bridge/loadingBridge.ht...</td>\n      <td>0.0</td>\n    </tr>\n    <tr>\n      <th>4</th>\n      <td>가전/TV</td>\n      <td>생활가전</td>\n      <td>세탁기+건조기세트</td>\n      <td>LG전자 트롬 워시타워 W17WTA</td>\n      <td>2,311,700</td>\n      <td>(무료배송)</td>\n      <td>11번가</td>\n      <td>http://prod.danawa.com/bridge/loadingBridge.ht...</td>\n      <td>0.0</td>\n    </tr>\n  </tbody>\n</table>\n</div>"
     },
     "execution_count": 23,
     "metadata": {},
     "output_type": "execute_result"
    }
   ],
   "source": [
    "main_df.head()"
   ]
  },
  {
   "cell_type": "code",
   "execution_count": 24,
   "id": "67e7c752-6afc-4594-b8dc-82c25ad98740",
   "metadata": {},
   "outputs": [
    {
     "data": {
      "text/plain": "    main   mid        sub                 name      price    ship platform  \\\n0  가전/TV  생활가전  세탁기+건조기세트  LG전자 트롬 워시타워 W17WTA  2,272,610  (무료배송)       옥션   \n1  가전/TV  생활가전  세탁기+건조기세트  LG전자 트롬 워시타워 W17WTA  2,272,610  (무료배송)       옥션   \n2  가전/TV  생활가전  세탁기+건조기세트  LG전자 트롬 워시타워 W17WTA  2,277,440  (무료배송)     11번가   \n3  가전/TV  생활가전  세탁기+건조기세트  LG전자 트롬 워시타워 W17WTA  2,291,960  (무료배송)     11번가   \n4  가전/TV  생활가전  세탁기+건조기세트  LG전자 트롬 워시타워 W17WTA  2,311,700  (무료배송)     11번가   \n\n   label  \n0    0.0  \n1    0.0  \n2    1.0  \n3    0.0  \n4    0.0  ",
      "text/html": "<div>\n<style scoped>\n    .dataframe tbody tr th:only-of-type {\n        vertical-align: middle;\n    }\n\n    .dataframe tbody tr th {\n        vertical-align: top;\n    }\n\n    .dataframe thead th {\n        text-align: right;\n    }\n</style>\n<table border=\"1\" class=\"dataframe\">\n  <thead>\n    <tr style=\"text-align: right;\">\n      <th></th>\n      <th>main</th>\n      <th>mid</th>\n      <th>sub</th>\n      <th>name</th>\n      <th>price</th>\n      <th>ship</th>\n      <th>platform</th>\n      <th>label</th>\n    </tr>\n  </thead>\n  <tbody>\n    <tr>\n      <th>0</th>\n      <td>가전/TV</td>\n      <td>생활가전</td>\n      <td>세탁기+건조기세트</td>\n      <td>LG전자 트롬 워시타워 W17WTA</td>\n      <td>2,272,610</td>\n      <td>(무료배송)</td>\n      <td>옥션</td>\n      <td>0.0</td>\n    </tr>\n    <tr>\n      <th>1</th>\n      <td>가전/TV</td>\n      <td>생활가전</td>\n      <td>세탁기+건조기세트</td>\n      <td>LG전자 트롬 워시타워 W17WTA</td>\n      <td>2,272,610</td>\n      <td>(무료배송)</td>\n      <td>옥션</td>\n      <td>0.0</td>\n    </tr>\n    <tr>\n      <th>2</th>\n      <td>가전/TV</td>\n      <td>생활가전</td>\n      <td>세탁기+건조기세트</td>\n      <td>LG전자 트롬 워시타워 W17WTA</td>\n      <td>2,277,440</td>\n      <td>(무료배송)</td>\n      <td>11번가</td>\n      <td>1.0</td>\n    </tr>\n    <tr>\n      <th>3</th>\n      <td>가전/TV</td>\n      <td>생활가전</td>\n      <td>세탁기+건조기세트</td>\n      <td>LG전자 트롬 워시타워 W17WTA</td>\n      <td>2,291,960</td>\n      <td>(무료배송)</td>\n      <td>11번가</td>\n      <td>0.0</td>\n    </tr>\n    <tr>\n      <th>4</th>\n      <td>가전/TV</td>\n      <td>생활가전</td>\n      <td>세탁기+건조기세트</td>\n      <td>LG전자 트롬 워시타워 W17WTA</td>\n      <td>2,311,700</td>\n      <td>(무료배송)</td>\n      <td>11번가</td>\n      <td>0.0</td>\n    </tr>\n  </tbody>\n</table>\n</div>"
     },
     "execution_count": 24,
     "metadata": {},
     "output_type": "execute_result"
    }
   ],
   "source": [
    "main_df = main_df.drop('link', axis=1)\n",
    "main_df.head()"
   ]
  },
  {
   "cell_type": "code",
   "execution_count": 25,
   "id": "e7b88429-fa75-4035-bafc-2938d0fddbe5",
   "metadata": {},
   "outputs": [
    {
     "data": {
      "text/plain": "(무료배송)           832\n(배송비 3,000원)       3\n(배송비 30,000원)      2\n(배송비 5,000원)       2\n(배송비 2,500원)       1\nName: ship, dtype: int64"
     },
     "execution_count": 25,
     "metadata": {},
     "output_type": "execute_result"
    }
   ],
   "source": [
    "main_df['ship'].value_counts()"
   ]
  },
  {
   "cell_type": "code",
   "execution_count": 26,
   "id": "8a1f8452-2364-4cd8-a995-1666093128e2",
   "metadata": {
    "pycharm": {
     "name": "#%%\n"
    }
   },
   "outputs": [
    {
     "data": {
      "text/plain": "000000           832\n000003000000       3\n0000030000000      2\n000005000000       2\n000002050000       1\nName: ship, dtype: int64"
     },
     "execution_count": 26,
     "metadata": {},
     "output_type": "execute_result"
    }
   ],
   "source": [
    "# ship price numeric data type으로 변경\n",
    "test = main_df\n",
    "#test['ship'].value_counts()\n",
    "# regex로 replace가 동작했기 때문에 defalut value가 동작하지 않음\n",
    "# null 값을 변환하는 추가 과정이 필요\n",
    "test = test['ship'].replace( value='0', regex='[^0-9]' )\n",
    "test = test.replace('', '0')\n",
    "# test.value_counts()\n",
    "\n",
    "change_df = main_df\n",
    "change_df['ship'] = test\n",
    "main_df = change_df\n",
    "main_df['ship'].value_counts()"
   ]
  },
  {
   "cell_type": "code",
   "execution_count": 27,
   "outputs": [
    {
     "data": {
      "text/plain": "    main   mid        sub                 name      price    ship platform  \\\n0  가전/TV  생활가전  세탁기+건조기세트  LG전자 트롬 워시타워 W17WTA  2,272,610  000000       옥션   \n1  가전/TV  생활가전  세탁기+건조기세트  LG전자 트롬 워시타워 W17WTA  2,272,610  000000       옥션   \n2  가전/TV  생활가전  세탁기+건조기세트  LG전자 트롬 워시타워 W17WTA  2,277,440  000000     11번가   \n3  가전/TV  생활가전  세탁기+건조기세트  LG전자 트롬 워시타워 W17WTA  2,291,960  000000     11번가   \n4  가전/TV  생활가전  세탁기+건조기세트  LG전자 트롬 워시타워 W17WTA  2,311,700  000000     11번가   \n\n   label  \n0    0.0  \n1    0.0  \n2    1.0  \n3    0.0  \n4    0.0  ",
      "text/html": "<div>\n<style scoped>\n    .dataframe tbody tr th:only-of-type {\n        vertical-align: middle;\n    }\n\n    .dataframe tbody tr th {\n        vertical-align: top;\n    }\n\n    .dataframe thead th {\n        text-align: right;\n    }\n</style>\n<table border=\"1\" class=\"dataframe\">\n  <thead>\n    <tr style=\"text-align: right;\">\n      <th></th>\n      <th>main</th>\n      <th>mid</th>\n      <th>sub</th>\n      <th>name</th>\n      <th>price</th>\n      <th>ship</th>\n      <th>platform</th>\n      <th>label</th>\n    </tr>\n  </thead>\n  <tbody>\n    <tr>\n      <th>0</th>\n      <td>가전/TV</td>\n      <td>생활가전</td>\n      <td>세탁기+건조기세트</td>\n      <td>LG전자 트롬 워시타워 W17WTA</td>\n      <td>2,272,610</td>\n      <td>000000</td>\n      <td>옥션</td>\n      <td>0.0</td>\n    </tr>\n    <tr>\n      <th>1</th>\n      <td>가전/TV</td>\n      <td>생활가전</td>\n      <td>세탁기+건조기세트</td>\n      <td>LG전자 트롬 워시타워 W17WTA</td>\n      <td>2,272,610</td>\n      <td>000000</td>\n      <td>옥션</td>\n      <td>0.0</td>\n    </tr>\n    <tr>\n      <th>2</th>\n      <td>가전/TV</td>\n      <td>생활가전</td>\n      <td>세탁기+건조기세트</td>\n      <td>LG전자 트롬 워시타워 W17WTA</td>\n      <td>2,277,440</td>\n      <td>000000</td>\n      <td>11번가</td>\n      <td>1.0</td>\n    </tr>\n    <tr>\n      <th>3</th>\n      <td>가전/TV</td>\n      <td>생활가전</td>\n      <td>세탁기+건조기세트</td>\n      <td>LG전자 트롬 워시타워 W17WTA</td>\n      <td>2,291,960</td>\n      <td>000000</td>\n      <td>11번가</td>\n      <td>0.0</td>\n    </tr>\n    <tr>\n      <th>4</th>\n      <td>가전/TV</td>\n      <td>생활가전</td>\n      <td>세탁기+건조기세트</td>\n      <td>LG전자 트롬 워시타워 W17WTA</td>\n      <td>2,311,700</td>\n      <td>000000</td>\n      <td>11번가</td>\n      <td>0.0</td>\n    </tr>\n  </tbody>\n</table>\n</div>"
     },
     "execution_count": 27,
     "metadata": {},
     "output_type": "execute_result"
    }
   ],
   "source": [
    "price_series = main_df['price']\n",
    "main_df.head()"
   ],
   "metadata": {
    "collapsed": false,
    "pycharm": {
     "name": "#%%\n"
    }
   }
  },
  {
   "cell_type": "code",
   "execution_count": 28,
   "outputs": [
    {
     "data": {
      "text/plain": "main         object\nmid          object\nsub          object\nname         object\nprice        object\nship         object\nplatform     object\nlabel       float64\ndtype: object"
     },
     "execution_count": 28,
     "metadata": {},
     "output_type": "execute_result"
    }
   ],
   "source": [
    "price_series = price_series.replace('[\\$,]', '', regex=True)\n",
    "# price_series.head()\n",
    "main_df['price'] = price_series\n",
    "main_df.dtypes"
   ],
   "metadata": {
    "collapsed": false,
    "pycharm": {
     "name": "#%%\n"
    }
   }
  },
  {
   "cell_type": "code",
   "execution_count": 29,
   "outputs": [],
   "source": [
    "test = main_df\n",
    "#tf.keras.utils.to_categorical(test['platform'], int(len(test['platform'].unique())))\n",
    "\n",
    "# 원했던 one-hot encoding\n",
    "plt_onehot = pd.get_dummies(test['platform'])"
   ],
   "metadata": {
    "collapsed": false,
    "pycharm": {
     "name": "#%%\n"
    }
   }
  },
  {
   "cell_type": "code",
   "execution_count": 36,
   "outputs": [],
   "source": [
    "# axis가 없는 경우 그냥 하나로\n",
    "test = pd.concat([test, plt_onehot], axis=1)\n",
    "test = test.drop('platform', axis=1)"
   ],
   "metadata": {
    "collapsed": false,
    "pycharm": {
     "name": "#%%\n"
    }
   }
  },
  {
   "cell_type": "code",
   "execution_count": 37,
   "outputs": [
    {
     "data": {
      "text/plain": "    main   mid        sub                 name    price    ship  label  11번가  \\\n0  가전/TV  생활가전  세탁기+건조기세트  LG전자 트롬 워시타워 W17WTA  2272610  000000    0.0     0   \n1  가전/TV  생활가전  세탁기+건조기세트  LG전자 트롬 워시타워 W17WTA  2272610  000000    0.0     0   \n2  가전/TV  생활가전  세탁기+건조기세트  LG전자 트롬 워시타워 W17WTA  2277440  000000    1.0     1   \n3  가전/TV  생활가전  세탁기+건조기세트  LG전자 트롬 워시타워 W17WTA  2291960  000000    0.0     1   \n4  가전/TV  생활가전  세탁기+건조기세트  LG전자 트롬 워시타워 W17WTA  2311700  000000    0.0     1   \n\n   AK몰  BestPC  ...  퍼스트  피씨로드  피온  하이마트 쇼핑몰  하프클럽  한샘몰  해밀컴  현대Hmall  홈&쇼핑  \\\n0    0       0  ...    0     0   0         0     0    0    0        0     0   \n1    0       0  ...    0     0   0         0     0    0    0        0     0   \n2    0       0  ...    0     0   0         0     0    0    0        0     0   \n3    0       0  ...    0     0   0         0     0    0    0        0     0   \n4    0       0  ...    0     0   0         0     0    0    0        0     0   \n\n   홈플러스  \n0     0  \n1     0  \n2     0  \n3     0  \n4     0  \n\n[5 rows x 208 columns]",
      "text/html": "<div>\n<style scoped>\n    .dataframe tbody tr th:only-of-type {\n        vertical-align: middle;\n    }\n\n    .dataframe tbody tr th {\n        vertical-align: top;\n    }\n\n    .dataframe thead th {\n        text-align: right;\n    }\n</style>\n<table border=\"1\" class=\"dataframe\">\n  <thead>\n    <tr style=\"text-align: right;\">\n      <th></th>\n      <th>main</th>\n      <th>mid</th>\n      <th>sub</th>\n      <th>name</th>\n      <th>price</th>\n      <th>ship</th>\n      <th>label</th>\n      <th>11번가</th>\n      <th>AK몰</th>\n      <th>BestPC</th>\n      <th>...</th>\n      <th>퍼스트</th>\n      <th>피씨로드</th>\n      <th>피온</th>\n      <th>하이마트 쇼핑몰</th>\n      <th>하프클럽</th>\n      <th>한샘몰</th>\n      <th>해밀컴</th>\n      <th>현대Hmall</th>\n      <th>홈&amp;쇼핑</th>\n      <th>홈플러스</th>\n    </tr>\n  </thead>\n  <tbody>\n    <tr>\n      <th>0</th>\n      <td>가전/TV</td>\n      <td>생활가전</td>\n      <td>세탁기+건조기세트</td>\n      <td>LG전자 트롬 워시타워 W17WTA</td>\n      <td>2272610</td>\n      <td>000000</td>\n      <td>0.0</td>\n      <td>0</td>\n      <td>0</td>\n      <td>0</td>\n      <td>...</td>\n      <td>0</td>\n      <td>0</td>\n      <td>0</td>\n      <td>0</td>\n      <td>0</td>\n      <td>0</td>\n      <td>0</td>\n      <td>0</td>\n      <td>0</td>\n      <td>0</td>\n    </tr>\n    <tr>\n      <th>1</th>\n      <td>가전/TV</td>\n      <td>생활가전</td>\n      <td>세탁기+건조기세트</td>\n      <td>LG전자 트롬 워시타워 W17WTA</td>\n      <td>2272610</td>\n      <td>000000</td>\n      <td>0.0</td>\n      <td>0</td>\n      <td>0</td>\n      <td>0</td>\n      <td>...</td>\n      <td>0</td>\n      <td>0</td>\n      <td>0</td>\n      <td>0</td>\n      <td>0</td>\n      <td>0</td>\n      <td>0</td>\n      <td>0</td>\n      <td>0</td>\n      <td>0</td>\n    </tr>\n    <tr>\n      <th>2</th>\n      <td>가전/TV</td>\n      <td>생활가전</td>\n      <td>세탁기+건조기세트</td>\n      <td>LG전자 트롬 워시타워 W17WTA</td>\n      <td>2277440</td>\n      <td>000000</td>\n      <td>1.0</td>\n      <td>1</td>\n      <td>0</td>\n      <td>0</td>\n      <td>...</td>\n      <td>0</td>\n      <td>0</td>\n      <td>0</td>\n      <td>0</td>\n      <td>0</td>\n      <td>0</td>\n      <td>0</td>\n      <td>0</td>\n      <td>0</td>\n      <td>0</td>\n    </tr>\n    <tr>\n      <th>3</th>\n      <td>가전/TV</td>\n      <td>생활가전</td>\n      <td>세탁기+건조기세트</td>\n      <td>LG전자 트롬 워시타워 W17WTA</td>\n      <td>2291960</td>\n      <td>000000</td>\n      <td>0.0</td>\n      <td>1</td>\n      <td>0</td>\n      <td>0</td>\n      <td>...</td>\n      <td>0</td>\n      <td>0</td>\n      <td>0</td>\n      <td>0</td>\n      <td>0</td>\n      <td>0</td>\n      <td>0</td>\n      <td>0</td>\n      <td>0</td>\n      <td>0</td>\n    </tr>\n    <tr>\n      <th>4</th>\n      <td>가전/TV</td>\n      <td>생활가전</td>\n      <td>세탁기+건조기세트</td>\n      <td>LG전자 트롬 워시타워 W17WTA</td>\n      <td>2311700</td>\n      <td>000000</td>\n      <td>0.0</td>\n      <td>1</td>\n      <td>0</td>\n      <td>0</td>\n      <td>...</td>\n      <td>0</td>\n      <td>0</td>\n      <td>0</td>\n      <td>0</td>\n      <td>0</td>\n      <td>0</td>\n      <td>0</td>\n      <td>0</td>\n      <td>0</td>\n      <td>0</td>\n    </tr>\n  </tbody>\n</table>\n<p>5 rows × 208 columns</p>\n</div>"
     },
     "execution_count": 37,
     "metadata": {},
     "output_type": "execute_result"
    }
   ],
   "source": [
    "test.head()"
   ],
   "metadata": {
    "collapsed": false,
    "pycharm": {
     "name": "#%%\n"
    }
   }
  },
  {
   "cell_type": "code",
   "execution_count": null,
   "outputs": [],
   "source": [],
   "metadata": {
    "collapsed": false,
    "pycharm": {
     "name": "#%%\n"
    }
   }
  }
 ],
 "metadata": {
  "kernelspec": {
   "display_name": "Python 3 (ipykernel)",
   "language": "python",
   "name": "python3"
  },
  "language_info": {
   "codemirror_mode": {
    "name": "ipython",
    "version": 3
   },
   "file_extension": ".py",
   "mimetype": "text/x-python",
   "name": "python",
   "nbconvert_exporter": "python",
   "pygments_lexer": "ipython3",
   "version": "3.9.9"
  }
 },
 "nbformat": 4,
 "nbformat_minor": 5
}