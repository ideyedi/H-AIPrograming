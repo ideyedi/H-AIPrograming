{
  "nbformat": 4,
  "nbformat_minor": 0,
  "metadata": {
    "kernelspec": {
      "display_name": "Python 3",
      "language": "python",
      "name": "python3"
    },
    "language_info": {
      "codemirror_mode": {
        "name": "ipython",
        "version": 3
      },
      "file_extension": ".py",
      "mimetype": "text/x-python",
      "name": "python",
      "nbconvert_exporter": "python",
      "pygments_lexer": "ipython3",
      "version": "3.5.5"
    },
    "colab": {
      "name": "과제03_ 다변수 함수의 미분_(학번)_(성명).ipynb",
      "provenance": []
    }
  },
  "cells": [
    {
      "cell_type": "code",
      "metadata": {
        "collapsed": true,
        "id": "VzoU_8YZXXjo"
      },
      "source": [
        "import sympy as sp"
      ],
      "execution_count": null,
      "outputs": []
    },
    {
      "cell_type": "markdown",
      "metadata": {
        "id": "OzMphWC2XXjq"
      },
      "source": [
        "Usueful documents link : \n",
        "1. https://github.com/sympy/sympy/wiki/Quick-examples\n",
        "1. http://docs.sympy.org/latest/tutorial/calculus.html#derivatives\n",
        "1. http://docs.sympy.org/latest/tutorial/calculus.html#series-expansion"
      ]
    },
    {
      "cell_type": "code",
      "metadata": {
        "collapsed": true,
        "id": "QrzFaB3GXXjs"
      },
      "source": [
        "x = sp.symbols('x')\n",
        "y = sp.symbols('y')\n",
        "z = sp.symbols('z')"
      ],
      "execution_count": null,
      "outputs": []
    },
    {
      "cell_type": "markdown",
      "metadata": {
        "id": "GmwlUOMLXXjt"
      },
      "source": [
        "## Example 01 : Derivative in 1D\n",
        "Take a derivative of $f(x)$ with respect to $x$\n",
        "\\begin{equation}\n",
        "f(x) = x^2 + 4x + 6\n",
        "\\end{equation}"
      ]
    },
    {
      "cell_type": "code",
      "metadata": {
        "id": "huT_JUCmXXjt"
      },
      "source": [
        "f = x**2 + 4*x + 6\n",
        "f"
      ],
      "execution_count": null,
      "outputs": []
    },
    {
      "cell_type": "code",
      "metadata": {
        "id": "32aMUmJFXXju"
      },
      "source": [
        "sp.diff(f,x)"
      ],
      "execution_count": null,
      "outputs": []
    },
    {
      "cell_type": "code",
      "metadata": {
        "collapsed": true,
        "id": "INDFI-86XXju"
      },
      "source": [
        "sp.init_printing()"
      ],
      "execution_count": null,
      "outputs": []
    },
    {
      "cell_type": "code",
      "metadata": {
        "id": "DxWeLJjJXXjv"
      },
      "source": [
        "sp.diff(f,x)"
      ],
      "execution_count": null,
      "outputs": []
    },
    {
      "cell_type": "markdown",
      "metadata": {
        "id": "2AJqtl8DXXjv"
      },
      "source": [
        "## Example 02 : Derivative in 2D\n",
        "Take a partial derivative of $f(x,y)$ with respect to $x$ and $y$\n",
        "\\begin{equation}\n",
        "f(x,y) = x^2 + 4x + 6 + y^2 + xy\n",
        "\\end{equation}"
      ]
    },
    {
      "cell_type": "code",
      "metadata": {
        "id": "8Lux-N0QXXjw"
      },
      "source": [
        "f = x**2 + 4*x + 6 + y**2 + x*y\n",
        "f"
      ],
      "execution_count": null,
      "outputs": []
    },
    {
      "cell_type": "markdown",
      "metadata": {
        "id": "BFzRKCVfXXjw"
      },
      "source": [
        "- TODO 1: Compute $\\frac{\\partial f}{\\partial x}$\n",
        "- TODO 2: Compute $\\frac{\\partial f}{\\partial y}$"
      ]
    },
    {
      "cell_type": "code",
      "metadata": {
        "id": "moyF5x5gXXjx"
      },
      "source": [
        "# TODO 1\n"
      ],
      "execution_count": null,
      "outputs": []
    },
    {
      "cell_type": "code",
      "metadata": {
        "id": "ztdVUE3WXXjx"
      },
      "source": [
        "# TODO 2\n"
      ],
      "execution_count": null,
      "outputs": []
    },
    {
      "cell_type": "markdown",
      "metadata": {
        "id": "PQQTqxxFXXjx"
      },
      "source": [
        "## Example 03 : Gradient in 2D\n",
        "Find a gradient of $f(x,y)$\n",
        "\\begin{equation}\n",
        "f(x,y) = x^2 + 4x + 6 + y^2 + xy\n",
        "\\end{equation}"
      ]
    },
    {
      "cell_type": "code",
      "metadata": {
        "id": "USJ9uWCaXXjy"
      },
      "source": [
        "F = sp.Matrix(1,1,[f])\n",
        "F"
      ],
      "execution_count": null,
      "outputs": []
    },
    {
      "cell_type": "code",
      "metadata": {
        "id": "DuABRuWrXXjy"
      },
      "source": [
        "grad = F.jacobian([x,y]).T\n",
        "grad"
      ],
      "execution_count": null,
      "outputs": []
    },
    {
      "cell_type": "markdown",
      "metadata": {
        "id": "h6HjSWedXXjy"
      },
      "source": [
        "## Example 04 : Derivative in 3D\n",
        "Take partial derivatives of $f(x,y,z)$ with respect to $x,y,z$\n",
        "\\begin{equation}\n",
        "f(x,y,z) = x^2z^2 + 4x + 6 + y^2 + xy \n",
        "\\end{equation}"
      ]
    },
    {
      "cell_type": "markdown",
      "metadata": {
        "id": "qc5qXXfGXXjy"
      },
      "source": [
        "- TODO 3: Compute $\\nabla f(x,y,z)$"
      ]
    },
    {
      "cell_type": "code",
      "metadata": {
        "id": "APsVqVJIXXjy"
      },
      "source": [
        "# TODO 3\n",
        "grad = None\n",
        "grad"
      ],
      "execution_count": null,
      "outputs": []
    },
    {
      "cell_type": "markdown",
      "metadata": {
        "id": "74-vpsiIXXjy"
      },
      "source": [
        "## Appendix"
      ]
    },
    {
      "cell_type": "code",
      "metadata": {
        "id": "AvTg4GauXXjz"
      },
      "source": [
        "sp.Integral(f,x)"
      ],
      "execution_count": null,
      "outputs": []
    },
    {
      "cell_type": "code",
      "metadata": {
        "id": "_vUCIF9UXXjz"
      },
      "source": [
        "sp.integrate(f,x)"
      ],
      "execution_count": null,
      "outputs": []
    },
    {
      "cell_type": "code",
      "metadata": {
        "id": "ujROe1_FXXjz"
      },
      "source": [
        "sp.integrate(f,y)"
      ],
      "execution_count": null,
      "outputs": []
    }
  ]
}